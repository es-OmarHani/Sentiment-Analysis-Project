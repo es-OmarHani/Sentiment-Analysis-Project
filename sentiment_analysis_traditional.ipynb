{
 "cells": [
  {
   "cell_type": "markdown",
   "metadata": {},
   "source": [
    "# Sentiment Analysis with Tweet Sentiment Dataset Using Traditional Machine Learning Models\n",
    "\n",
    "* This notebook provides a comprehensive guide to performing sentiment analysis on the Tweet Sentiment dataset using traditional machine learning models. We will preprocess the dataset, vectorize the text data, train several models, and evaluate their performance. The models we will cover include `Logistic Regression, Support Vector Machines (SVM), Random Forests, Naive Bayes, Gradient Boosting Machines (GBM), and XGBoost`."
   ]
  },
  {
   "cell_type": "markdown",
   "metadata": {},
   "source": [
    "## Import Libraries"
   ]
  },
  {
   "cell_type": "code",
   "execution_count": 1,
   "metadata": {},
   "outputs": [],
   "source": [
    "import pandas as pd\n",
    "import re\n",
    "import nltk\n",
    "import random\n",
    "from nltk.corpus import stopwords, wordnet\n",
    "from nltk.tokenize import word_tokenize\n",
    "from nltk.stem import WordNetLemmatizer\n",
    "import matplotlib.pyplot as plt\n",
    "import seaborn as sns\n",
    "import contractions\n",
    "from sklearn.feature_extraction.text import TfidfVectorizer\n",
    "from sklearn.linear_model import LogisticRegression\n",
    "from sklearn.svm import SVC\n",
    "from sklearn.ensemble import RandomForestClassifier, GradientBoostingClassifier\n",
    "from sklearn.naive_bayes import MultinomialNB\n",
    "from sklearn.metrics import accuracy_score, classification_report\n",
    "from tqdm import tqdm\n",
    "import time\n",
    "import xgboost as xgb\n",
    "import numpy as np\n",
    "from sklearn.model_selection import GridSearchCV\n",
    "from sklearn.ensemble import VotingClassifier"
   ]
  },
  {
   "cell_type": "markdown",
   "metadata": {},
   "source": [
    "## Load and Preprocess the Dataset"
   ]
  },
  {
   "cell_type": "code",
   "execution_count": 3,
   "metadata": {},
   "outputs": [
    {
     "name": "stderr",
     "output_type": "stream",
     "text": [
      "[nltk_data] Downloading package stopwords to /home/omar/nltk_data...\n",
      "[nltk_data]   Package stopwords is already up-to-date!\n",
      "[nltk_data] Downloading package punkt to /home/omar/nltk_data...\n",
      "[nltk_data]   Package punkt is already up-to-date!\n",
      "[nltk_data] Downloading package wordnet to /home/omar/nltk_data...\n",
      "[nltk_data]   Package wordnet is already up-to-date!\n"
     ]
    }
   ],
   "source": [
    "# Download necessary NLTK resources\n",
    "nltk.download('stopwords')\n",
    "nltk.download('punkt')\n",
    "nltk.download('wordnet')\n",
    "\n",
    "stop_words = set(stopwords.words('english'))\n",
    "lemmatizer = WordNetLemmatizer()\n",
    "# translator = Translator()\n",
    "\n",
    "def load_parquet_as_dataframe(parquet_file_path):\n",
    "    \"\"\"\n",
    "    Load Parquet file into a pandas DataFrame.\n",
    "    \n",
    "    Args:\n",
    "        parquet_file_path (str): Path to the Parquet file.\n",
    "        \n",
    "    Returns:\n",
    "        pd.DataFrame: Loaded DataFrame.\n",
    "    \"\"\"\n",
    "    df = pd.read_parquet(parquet_file_path)\n",
    "    return df\n",
    "\n",
    "def preprocess_text(text):\n",
    "    \"\"\"\n",
    "    Preprocess text by removing mentions, URLs, special characters, and stop words.\n",
    "    \n",
    "    Args:\n",
    "        text (str): Raw text data.\n",
    "        \n",
    "    Returns:\n",
    "        str: Cleaned text data.\n",
    "    \"\"\"\n",
    "    text = re.sub(r'(@\\w+|http\\S+)', '', text)\n",
    "    text = re.sub(r'[^a-zA-Z\\s]', '', text)\n",
    "    text = text.lower()\n",
    "    tokens = text.split()\n",
    "    tokens = [word for word in tokens if word not in stop_words]\n",
    "    return ' '.join(tokens)\n",
    "\n",
    "\n",
    "# def prepare_data(df, sample_size=10000):\n",
    "#     \"\"\"\n",
    "#     Prepare data by preprocessing text and splitting into train, validation, and test sets.\n",
    "    \n",
    "#     Args:\n",
    "#         df (pd.DataFrame): DataFrame containing the dataset.\n",
    "#         sample_size (int): Number of samples to use for the entire process.\n",
    "        \n",
    "#     Returns:\n",
    "#         tuple: Split and preprocessed data (X_train, X_valid, X_test, y_train, y_valid, y_test).\n",
    "#     \"\"\"\n",
    "#     df['cleaned_text'] = df['text'].apply(preprocess_text)\n",
    "    \n",
    "#     # Map labels from [0, 2, 4] to [0, 1, 2]\n",
    "#     label_mapping = {0: 0, 2: 1, 4: 2}\n",
    "#     df['polarity'] = df['polarity'].map(label_mapping)\n",
    "    \n",
    "#     X = df['cleaned_text']\n",
    "#     y = df['polarity']\n",
    "    \n",
    "#     # Use train_test_split for stratified sampling\n",
    "#     X_sample, _, y_sample, _ = train_test_split(X, y, train_size=sample_size, stratify=y, random_state=42)\n",
    "    \n",
    "#     # Split the sampled data\n",
    "#     X_train, X_test, y_train, y_test = train_test_split(X_sample, y_sample, train_size=0.8, random_state=42, stratify=y_sample)\n",
    "    \n",
    "#     return X_train, X_test, y_train, y_test"
   ]
  },
  {
   "cell_type": "markdown",
   "metadata": {},
   "source": [
    "### Loading The Data"
   ]
  },
  {
   "cell_type": "code",
   "execution_count": 4,
   "metadata": {},
   "outputs": [],
   "source": [
    "# Load datasets\n",
    "train_file_path = 'datasets/tweet_eval_train.parquet'\n",
    "test_file_path = 'datasets/tweet_eval_test.parquet'\n",
    "\n",
    "df_train = load_parquet_as_dataframe(train_file_path)\n",
    "df_test = load_parquet_as_dataframe(test_file_path)"
   ]
  },
  {
   "cell_type": "markdown",
   "metadata": {},
   "source": [
    "### show insights For Data"
   ]
  },
  {
   "cell_type": "code",
   "execution_count": 29,
   "metadata": {},
   "outputs": [
    {
     "name": "stdout",
     "output_type": "stream",
     "text": [
      "<class 'pandas.core.frame.DataFrame'>\n",
      "RangeIndex: 45615 entries, 0 to 45614\n",
      "Data columns (total 2 columns):\n",
      " #   Column  Non-Null Count  Dtype \n",
      "---  ------  --------------  ----- \n",
      " 0   text    45615 non-null  object\n",
      " 1   label   45615 non-null  int64 \n",
      "dtypes: int64(1), object(1)\n",
      "memory usage: 712.9+ KB\n"
     ]
    }
   ],
   "source": [
    "# Basic Information about the dataset\n",
    "df_train.info()"
   ]
  },
  {
   "cell_type": "code",
   "execution_count": 30,
   "metadata": {},
   "outputs": [
    {
     "data": {
      "text/html": [
       "<div>\n",
       "<style scoped>\n",
       "    .dataframe tbody tr th:only-of-type {\n",
       "        vertical-align: middle;\n",
       "    }\n",
       "\n",
       "    .dataframe tbody tr th {\n",
       "        vertical-align: top;\n",
       "    }\n",
       "\n",
       "    .dataframe thead th {\n",
       "        text-align: right;\n",
       "    }\n",
       "</style>\n",
       "<table border=\"1\" class=\"dataframe\">\n",
       "  <thead>\n",
       "    <tr style=\"text-align: right;\">\n",
       "      <th></th>\n",
       "      <th>label</th>\n",
       "    </tr>\n",
       "  </thead>\n",
       "  <tbody>\n",
       "    <tr>\n",
       "      <th>count</th>\n",
       "      <td>45615.000000</td>\n",
       "    </tr>\n",
       "    <tr>\n",
       "      <th>mean</th>\n",
       "      <td>1.235800</td>\n",
       "    </tr>\n",
       "    <tr>\n",
       "      <th>std</th>\n",
       "      <td>0.700859</td>\n",
       "    </tr>\n",
       "    <tr>\n",
       "      <th>min</th>\n",
       "      <td>0.000000</td>\n",
       "    </tr>\n",
       "    <tr>\n",
       "      <th>25%</th>\n",
       "      <td>1.000000</td>\n",
       "    </tr>\n",
       "    <tr>\n",
       "      <th>50%</th>\n",
       "      <td>1.000000</td>\n",
       "    </tr>\n",
       "    <tr>\n",
       "      <th>75%</th>\n",
       "      <td>2.000000</td>\n",
       "    </tr>\n",
       "    <tr>\n",
       "      <th>max</th>\n",
       "      <td>2.000000</td>\n",
       "    </tr>\n",
       "  </tbody>\n",
       "</table>\n",
       "</div>"
      ],
      "text/plain": [
       "              label\n",
       "count  45615.000000\n",
       "mean       1.235800\n",
       "std        0.700859\n",
       "min        0.000000\n",
       "25%        1.000000\n",
       "50%        1.000000\n",
       "75%        2.000000\n",
       "max        2.000000"
      ]
     },
     "execution_count": 30,
     "metadata": {},
     "output_type": "execute_result"
    }
   ],
   "source": [
    "# Basic Statistics\n",
    "df_train.describe()"
   ]
  },
  {
   "cell_type": "code",
   "execution_count": 31,
   "metadata": {},
   "outputs": [
    {
     "data": {
      "text/plain": [
       "text     0\n",
       "label    0\n",
       "dtype: int64"
      ]
     },
     "execution_count": 31,
     "metadata": {},
     "output_type": "execute_result"
    }
   ],
   "source": [
    "# Missing values in each column\n",
    "df_train.isnull().sum()"
   ]
  },
  {
   "cell_type": "markdown",
   "metadata": {},
   "source": [
    "### Show class distribution"
   ]
  },
  {
   "cell_type": "code",
   "execution_count": 32,
   "metadata": {},
   "outputs": [
    {
     "data": {
      "image/png": "[encoded data removed]",
      "text/plain": [
       "<Figure size 800x600 with 1 Axes>"
      ]
     },
     "metadata": {},
     "output_type": "display_data"
    }
   ],
   "source": [
    "# Plot class distribution\n",
    "plt.figure(figsize=(8, 6))\n",
    "sns.countplot(x='label', data=df_train)\n",
    "plt.title(\"Class Distribution of Dataset\")\n",
    "plt.xlabel(\"Sentiment\")\n",
    "plt.ylabel(\"Count\")\n",
    "plt.show()"
   ]
  },
  {
   "cell_type": "code",
   "execution_count": 33,
   "metadata": {},
   "outputs": [
    {
     "data": {
      "text/plain": [
       "label\n",
       "1    20673\n",
       "2    17849\n",
       "0     7093\n",
       "Name: count, dtype: int64"
      ]
     },
     "execution_count": 33,
     "metadata": {},
     "output_type": "execute_result"
    }
   ],
   "source": [
    "df_train['label'].value_counts()"
   ]
  },
  {
   "cell_type": "markdown",
   "metadata": {},
   "source": [
    "## Trying To Solve Imbalance of Data"
   ]
  },
  {
   "cell_type": "markdown",
   "metadata": {},
   "source": [
    "### Using `SMOTE` to solve imbalance in classes of data\n",
    "* SMOTE (Synthetic Minority Over-sampling Technique)\n",
    "\n",
    "     SMOTE is a popular technique used to address the class imbalance problem in datasets. When dealing with imbalanced datasets, where one class significantly outnumbers the other(s), standard machine learning algorithms tend to be biased towards the majority class. SMOTE helps mitigate this issue by generating synthetic samples for the minority class.\n",
    "\n",
    "* How SMOTE Works:\n",
    "\n",
    "     1. Identify Minority Samples: SMOTE identifies samples from the minority class.\n",
    "     2. Generate Synthetic Samples: It generates new synthetic samples by selecting two or more similar instances in the feature space and interpolating between them. This is done by choosing a random point along the line between these instances.\n",
    "     3. Balance the Dataset: The synthetic samples are added to the dataset, which helps to balance the class distribution."
   ]
  },
  {
   "cell_type": "markdown",
   "metadata": {},
   "source": [
    "#### Vectorize the Text Data Using TF-IDF"
   ]
  },
  {
   "cell_type": "code",
   "execution_count": 18,
   "metadata": {},
   "outputs": [],
   "source": [
    "from sklearn.feature_extraction.text import TfidfVectorizer\n",
    "\n",
    "def vectorize_data(X_train, X_test):\n",
    "    \"\"\"\n",
    "    Vectorize text data using TF-IDF.\n",
    "    \n",
    "    Args:\n",
    "        X_train (pd.Series): Training data.\n",
    "        X_test (pd.Series): Test data.\n",
    "        \n",
    "    Returns:\n",
    "        tuple: Vectorized data (X_train_tfidf, X_test_tfidf).\n",
    "    \"\"\"\n",
    "    vectorizer = TfidfVectorizer(max_features=10000)\n",
    "    X_train_tfidf = vectorizer.fit_transform(X_train)\n",
    "    X_test_tfidf = vectorizer.transform(X_test)\n",
    "    \n",
    "    return X_train_tfidf, X_test_tfidf\n"
   ]
  },
  {
   "cell_type": "markdown",
   "metadata": {},
   "source": [
    "#### Using `SMOTE`"
   ]
  },
  {
   "cell_type": "code",
   "execution_count": 34,
   "metadata": {},
   "outputs": [
    {
     "name": "stdout",
     "output_type": "stream",
     "text": [
      "Label Distribution After SMOTE:\n",
      "{0: 20673, 1: 20673, 2: 20673}\n"
     ]
    },
    {
     "data": {
      "image/png": "[encoded data removed]",
      "text/plain": [
       "<Figure size 800x600 with 1 Axes>"
      ]
     },
     "metadata": {},
     "output_type": "display_data"
    }
   ],
   "source": [
    "from imblearn.over_sampling import SMOTE\n",
    "import numpy as np\n",
    "\n",
    "# Preprocess text data\n",
    "df_train['cleaned_text'] = df_train['text'].apply(preprocess_text)\n",
    "df_test['cleaned_text'] = df_test['text'].apply(preprocess_text)\n",
    "\n",
    "# Vectorize text data\n",
    "X_train_tfidf_smote, X_test_tfidf_smote = vectorize_data(df_train['cleaned_text'], df_test['cleaned_text'])\n",
    "\n",
    "# Apply SMOTE to the training data\n",
    "smote = SMOTE(random_state=42)\n",
    "X_train_smote, y_train_smote = smote.fit_resample(X_train_tfidf_smote, df_train['label'])\n",
    "\n",
    "# Show data and label distribution after SMOTE\n",
    "print(\"Label Distribution After SMOTE:\")\n",
    "unique, counts = np.unique(y_train_smote, return_counts=True)\n",
    "smote_label_counts = dict(zip(unique, counts))\n",
    "print(smote_label_counts)\n",
    "\n",
    "plt.figure(figsize=(8, 6))\n",
    "sns.countplot(x=y_train_smote)\n",
    "plt.title(\"Class Distribution of the Training Data After SMOTE\")\n",
    "plt.xlabel(\"Label\")\n",
    "plt.ylabel(\"Count\")\n",
    "plt.show()"
   ]
  },
  {
   "cell_type": "markdown",
   "metadata": {},
   "source": [
    "#### Train Machine Learning Models"
   ]
  },
  {
   "cell_type": "code",
   "execution_count": 21,
   "metadata": {},
   "outputs": [],
   "source": [
    "def train_models(models, X_train, y_train):\n",
    "    \"\"\"\n",
    "    Train multiple models.\n",
    "    \n",
    "    Args:\n",
    "        models (list): List of sklearn model instances.\n",
    "        X_train (sparse matrix): Training data.\n",
    "        y_train (pd.Series): Training labels.\n",
    "        \n",
    "    Returns:\n",
    "        list: List of trained models.\n",
    "    \"\"\"\n",
    "    trained_models = []\n",
    "    for model in tqdm(models, desc=\"Training Models\"):\n",
    "        model_name = model.__class__.__name__\n",
    "        print(f\"Training {model_name}...\")\n",
    "        start_time = time.time()\n",
    "        model.fit(X_train, y_train)\n",
    "        training_time = time.time() - start_time\n",
    "        trained_models.append((model, training_time))\n",
    "        print(f\"{model_name} training complete in {training_time:.2f} seconds.\")\n",
    "        print(\"=\"*60)\n",
    "    return trained_models"
   ]
  },
  {
   "cell_type": "code",
   "execution_count": 36,
   "metadata": {},
   "outputs": [
    {
     "name": "stderr",
     "output_type": "stream",
     "text": [
      "Training Models:   0%|          | 0/6 [00:00<?, ?it/s]"
     ]
    },
    {
     "name": "stdout",
     "output_type": "stream",
     "text": [
      "Training LogisticRegression...\n"
     ]
    },
    {
     "name": "stderr",
     "output_type": "stream",
     "text": [
      "Training Models:  17%|█▋        | 1/6 [00:16<01:22, 16.45s/it]"
     ]
    },
    {
     "name": "stdout",
     "output_type": "stream",
     "text": [
      "LogisticRegression training complete in 16.45 seconds.\n",
      "============================================================\n",
      "Training SVC...\n"
     ]
    },
    {
     "name": "stderr",
     "output_type": "stream",
     "text": [
      "Training Models:  33%|███▎      | 2/6 [18:52<44:12, 663.24s/it]"
     ]
    },
    {
     "name": "stdout",
     "output_type": "stream",
     "text": [
      "SVC training complete in 1116.00 seconds.\n",
      "============================================================\n",
      "Training RandomForestClassifier...\n"
     ]
    },
    {
     "name": "stderr",
     "output_type": "stream",
     "text": [
      "Training Models:  50%|█████     | 3/6 [20:55<20:49, 416.42s/it]"
     ]
    },
    {
     "name": "stdout",
     "output_type": "stream",
     "text": [
      "RandomForestClassifier training complete in 122.70 seconds.\n",
      "============================================================\n",
      "Training MultinomialNB...\n",
      "MultinomialNB training complete in 0.01 seconds.\n",
      "============================================================\n",
      "Training GradientBoostingClassifier...\n"
     ]
    },
    {
     "name": "stderr",
     "output_type": "stream",
     "text": [
      "Training Models:  83%|████████▎ | 5/6 [22:07<03:21, 201.20s/it]"
     ]
    },
    {
     "name": "stdout",
     "output_type": "stream",
     "text": [
      "GradientBoostingClassifier training complete in 72.46 seconds.\n",
      "============================================================\n",
      "Training XGBClassifier...\n"
     ]
    },
    {
     "name": "stderr",
     "output_type": "stream",
     "text": [
      "Training Models: 100%|██████████| 6/6 [22:47<00:00, 227.95s/it]"
     ]
    },
    {
     "name": "stdout",
     "output_type": "stream",
     "text": [
      "XGBClassifier training complete in 40.07 seconds.\n",
      "============================================================\n"
     ]
    },
    {
     "name": "stderr",
     "output_type": "stream",
     "text": [
      "\n"
     ]
    }
   ],
   "source": [
    "# Initialize models\n",
    "models = [\n",
    "    LogisticRegression(max_iter=1000),\n",
    "    SVC(),\n",
    "    RandomForestClassifier(),\n",
    "    MultinomialNB(),\n",
    "    GradientBoostingClassifier(),\n",
    "    xgb.XGBClassifier(objective='multi:softprob', num_class=3)\n",
    "]\n",
    "\n",
    "# Train models\n",
    "trained_models_smote = train_models(models, X_train_smote, y_train_smote)"
   ]
  },
  {
   "cell_type": "markdown",
   "metadata": {},
   "source": [
    "#### Evaluate and Show The Results"
   ]
  },
  {
   "cell_type": "code",
   "execution_count": 23,
   "metadata": {},
   "outputs": [],
   "source": [
    "import pandas as pd\n",
    "import matplotlib.pyplot as plt\n",
    "import seaborn as sns\n",
    "\n",
    "def evaluate_models(trained_models, X_test, y_test):\n",
    "    \"\"\"\n",
    "    Evaluate multiple trained models.\n",
    "    \n",
    "    Args:\n",
    "        trained_models (list): List of tuples containing trained models and their training times.\n",
    "        X_test (sparse matrix): Test data.\n",
    "        y_test (pd.Series): Test labels.\n",
    "        \n",
    "    Returns:\n",
    "        pd.DataFrame: DataFrame containing evaluation results.\n",
    "    \"\"\"\n",
    "    results = []\n",
    "    for model, training_time in trained_models:\n",
    "        model_name = model.__class__.__name__\n",
    "        y_test_pred = model.predict(X_test)\n",
    "        test_acc = accuracy_score(y_test, y_test_pred)\n",
    "        report = classification_report(y_test, y_test_pred)\n",
    "        \n",
    "        results.append({\n",
    "            'model': model_name,\n",
    "            'test_accuracy': test_acc,\n",
    "            'training_time': training_time,\n",
    "            'classification_report': report\n",
    "        })\n",
    "    \n",
    "    results_df = pd.DataFrame(results)\n",
    "    return results_df\n"
   ]
  },
  {
   "cell_type": "code",
   "execution_count": 37,
   "metadata": {},
   "outputs": [
    {
     "name": "stderr",
     "output_type": "stream",
     "text": [
      "/tmp/ipykernel_5441/1047919009.py:8: FutureWarning: \n",
      "\n",
      "Passing `palette` without assigning `hue` is deprecated and will be removed in v0.14.0. Assign the `x` variable to `hue` and set `legend=False` for the same effect.\n",
      "\n",
      "  sns.barplot(x='model', y='test_accuracy', data=results_df_smote, palette='viridis')\n"
     ]
    },
    {
     "data": {
      "image/png": "[encoded data removed]",
      "text/plain": [
       "<Figure size 1200x600 with 1 Axes>"
      ]
     },
     "metadata": {},
     "output_type": "display_data"
    }
   ],
   "source": [
    "# Evaluate models\n",
    "results_df_smote = evaluate_models(trained_models_smote, X_test_tfidf_smote, df_test['label'])\n",
    "\n",
    "# Plotting\n",
    "plt.figure(figsize=(12, 6))\n",
    "\n",
    "# Bar plot for test accuracy\n",
    "sns.barplot(x='model', y='test_accuracy', data=results_df_smote, palette='viridis')\n",
    "plt.title('Test Accuracy for Different Models')\n",
    "plt.xlabel('Model')\n",
    "plt.ylabel('Test Accuracy')\n",
    "plt.xticks(rotation=45)\n",
    "\n",
    "# Adding accuracy values on top of the bars\n",
    "for index, row in results_df_smote.iterrows():\n",
    "    plt.text(index, row.test_accuracy, f\"{row.test_accuracy:.2%}\", color='black', ha=\"center\")\n",
    "\n",
    "plt.tight_layout()\n",
    "plt.show()"
   ]
  },
  {
   "cell_type": "markdown",
   "metadata": {},
   "source": [
    "### Text Data Augmentation Techniques:\n",
    "That For solving imbalance in classes\n",
    "\n",
    "1. Synonym Replacement:\n",
    "    * Randomly replace words in the text with their synonyms using a thesaurus or a word embedding model.\n",
    "\n",
    "2. Random Insertion:\n",
    "    * Randomly insert new words at random positions in the sentence using synonyms or related words.\n",
    "\n",
    "3. Random Deletion:\n",
    "    * Randomly remove words from the sentence with a certain probability.\n",
    "\n",
    "4. Random Swap:\n",
    "    * Randomly swap the positions of two words in the sentence.\n",
    "\n",
    "5. Back Translation:\n",
    "    * Translate the text to another language and then back to the original language to generate paraphrases."
   ]
  },
  {
   "cell_type": "code",
   "execution_count": 5,
   "metadata": {},
   "outputs": [],
   "source": [
    "def get_synonyms(word):\n",
    "    \"\"\"\n",
    "    Get synonyms for the given word.\n",
    "    \n",
    "    Args:\n",
    "        word (str): The word to find synonyms for.\n",
    "        \n",
    "    Returns:\n",
    "        set: A set of synonyms for the word.\n",
    "    \"\"\"\n",
    "    synonyms = set()\n",
    "    for syn in wordnet.synsets(word):\n",
    "        for lemma in syn.lemmas():\n",
    "            synonym = lemma.name().replace(\"_\", \" \").replace(\"-\", \" \").lower()\n",
    "            synonym = \"\".join([char for char in synonym if char in 'abcdefghijklmnopqrstuvwxyz '])\n",
    "            synonyms.add(synonym)\n",
    "    if word in synonyms:\n",
    "        synonyms.remove(word)\n",
    "    return list(synonyms)\n",
    "\n",
    "def synonym_replacement(text, n):\n",
    "    \"\"\"\n",
    "    Perform synonym replacement on the given text.\n",
    "    \n",
    "    Args:\n",
    "        text (str): The text to augment.\n",
    "        n (int): The number of words to replace with synonyms.\n",
    "        \n",
    "    Returns:\n",
    "        str: Augmented text with synonyms replaced.\n",
    "    \"\"\"\n",
    "    words = text.split()\n",
    "    new_words = words.copy()\n",
    "    random_word_list = list(set([word for word in words if word not in stop_words]))\n",
    "    random.shuffle(random_word_list)\n",
    "    \n",
    "    num_replaced = 0\n",
    "    for random_word in random_word_list:\n",
    "        synonyms = get_synonyms(random_word)\n",
    "        if len(synonyms) >= 1:\n",
    "            synonym = random.choice(list(synonyms))\n",
    "            new_words = [synonym if word == random_word else word for word in new_words]\n",
    "            num_replaced += 1\n",
    "        if num_replaced >= n:  # Only replace up to n words\n",
    "            break\n",
    "\n",
    "    sentence = ' '.join(new_words)\n",
    "    return sentence\n",
    "\n",
    "def random_insertion(text, n):\n",
    "    \"\"\"\n",
    "    Perform random insertion on the given text.\n",
    "    \n",
    "    Args:\n",
    "        text (str): The text to augment.\n",
    "        n (int): The number of words to insert randomly.\n",
    "        \n",
    "    Returns:\n",
    "        str: Augmented text with random words inserted.\n",
    "    \"\"\"\n",
    "    words = text.split()\n",
    "    new_words = words.copy()\n",
    "    for _ in range(n):\n",
    "        add_word(new_words)\n",
    "    return ' '.join(new_words)\n",
    "\n",
    "def add_word(new_words):\n",
    "    \"\"\"\n",
    "    Add a random synonym of a random word in the list of words.\n",
    "    \n",
    "    Args:\n",
    "        new_words (list): List of words to insert a synonym into.\n",
    "    \"\"\"\n",
    "    synonyms = []\n",
    "    counter = 0\n",
    "    while len(synonyms) < 1:\n",
    "        random_word = new_words[random.randint(0, len(new_words) - 1)]\n",
    "        synonyms = get_synonyms(random_word)\n",
    "        counter += 1\n",
    "        if counter >= 10:\n",
    "            return\n",
    "    random_synonym = synonyms[0]\n",
    "    random_idx = random.randint(0, len(new_words) - 1)\n",
    "    new_words.insert(random_idx, random_synonym)\n",
    "\n",
    "def random_deletion(text, p):\n",
    "    \"\"\"\n",
    "    Perform random deletion on the given text.\n",
    "    \n",
    "    Args:\n",
    "        text (str): The text to augment.\n",
    "        p (float): The probability of deleting each word.\n",
    "        \n",
    "    Returns:\n",
    "        str: Augmented text with random words deleted.\n",
    "    \"\"\"\n",
    "    words = text.split()\n",
    "    if len(words) == 1:\n",
    "        return words\n",
    "    new_words = []\n",
    "    for word in words:\n",
    "        r = random.uniform(0, 1)\n",
    "        if r > p:\n",
    "            new_words.append(word)\n",
    "    if len(new_words) == 0:\n",
    "        rand_int = random.randint(0, len(words) - 1)\n",
    "        return ' '.join([words[rand_int]])\n",
    "    return ' '.join(new_words)\n",
    "\n",
    "# augment data for only min class\n",
    "def augment_data_min(df, label_column, text_column, max_diff=2000):\n",
    "    \"\"\"\n",
    "    Augment the dataset, focusing more on the minority class until it reaches within the max_diff from the majority class.\n",
    "    \n",
    "    Args:\n",
    "        df (pd.DataFrame): DataFrame containing the dataset.\n",
    "        label_column (str): The column name of the labels in the DataFrame.\n",
    "        text_column (str): The column name of the text data in the DataFrame.\n",
    "        max_diff (int): Maximum allowable difference between the counts of each class.\n",
    "        \n",
    "    Returns:\n",
    "        pd.DataFrame: Augmented DataFrame.\n",
    "    \"\"\"\n",
    "    augmented_data = []\n",
    "    label_counts = df[label_column].value_counts()\n",
    "    max_label_count = label_counts.max()\n",
    "    \n",
    "    min_label = label_counts.idxmin()\n",
    "    min_label_count = label_counts[min_label]\n",
    "    augment_size = max_label_count - min_label_count - max_diff\n",
    "\n",
    "    while augment_size > 0:\n",
    "        df_label = df[df[label_column] == min_label]\n",
    "        \n",
    "        augmented_texts = []\n",
    "        for _ in range(augment_size // len(df_label) + 1):\n",
    "            augmented_texts.extend(df_label[text_column].apply(lambda x: synonym_replacement(str(x), 2)))\n",
    "            augmented_texts = list(map(lambda x: random_insertion(x, 2), augmented_texts))\n",
    "            augmented_texts = list(map(lambda x: random_deletion(x, 0.1), augmented_texts))\n",
    "        \n",
    "        augmented_texts = augmented_texts[:augment_size]  # Limit the number of augmentations\n",
    "        augmented_data.append(pd.DataFrame({text_column: augmented_texts, label_column: min_label}))\n",
    "        \n",
    "        df = pd.concat([df, pd.DataFrame({text_column: augmented_texts, label_column: min_label})], ignore_index=True)\n",
    "        label_counts = df[label_column].value_counts()\n",
    "        min_label = label_counts.idxmin()\n",
    "        min_label_count = label_counts[min_label]\n",
    "        augment_size = max_label_count - min_label_count - max_diff\n",
    "    \n",
    "    return df\n",
    "\n",
    "# Augmention with balance all classes to the maximum class size.\n",
    "def augment_data_all(df, label_column, text_column):\n",
    "    \"\"\"\n",
    "    Augment the dataset to balance all classes to the maximum class size.\n",
    "    \n",
    "    Args:\n",
    "        df (pd.DataFrame): DataFrame containing the dataset.\n",
    "        label_column (str): The column name of the labels in the DataFrame.\n",
    "        text_column (str): The column name of the text data in the DataFrame.\n",
    "        \n",
    "    Returns:\n",
    "        pd.DataFrame: Augmented DataFrame.\n",
    "    \"\"\"\n",
    "    augmented_data = []\n",
    "\n",
    "    # Get the label distribution\n",
    "    label_counts = df[label_column].value_counts()\n",
    "    max_count = label_counts.max()\n",
    "\n",
    "    for label in label_counts.index:\n",
    "        df_label = df[df[label_column] == label]\n",
    "        while len(df_label) < max_count:\n",
    "            augmented_texts = df_label[text_column].apply(lambda x: synonym_replacement(x, 2))\n",
    "            augmented_texts = augmented_texts.apply(lambda x: random_insertion(x, 2))\n",
    "            augmented_texts = augmented_texts.apply(lambda x: random_deletion(x, 0.1))\n",
    "            augmented_data.append(pd.DataFrame({text_column: augmented_texts, label_column: label}))\n",
    "            df_label = pd.concat([df_label, augmented_data[-1]]).head(max_count)\n",
    "\n",
    "        augmented_data.append(df_label)\n",
    "    \n",
    "    augmented_df = pd.concat(augmented_data).reset_index(drop=True)\n",
    "    return augmented_df\n",
    "\n"
   ]
  },
  {
   "cell_type": "markdown",
   "metadata": {},
   "source": [
    "#### Combine `test` With `val` Data \n",
    "That done because val data in That approach will not be used so combine it with `train`"
   ]
  },
  {
   "cell_type": "code",
   "execution_count": 6,
   "metadata": {},
   "outputs": [],
   "source": [
    "# Load train and validation datasets\n",
    "train_file_path = 'datasets/tweet_eval_train.parquet'\n",
    "val_file_path = 'datasets/tweet_eval_val.parquet'\n",
    "\n",
    "df_train = load_parquet_as_dataframe(train_file_path)\n",
    "df_val = load_parquet_as_dataframe(val_file_path)\n",
    "\n",
    "# Combine train and validation datasets\n",
    "df_combined = pd.concat([df_train, df_val])\n",
    "\n",
    "# Preprocess text data\n",
    "df_combined['cleaned_text'] = df_combined['text'].apply(preprocess_text)\n",
    "df_test['cleaned_text'] = df_test['text'].apply(preprocess_text)"
   ]
  },
  {
   "cell_type": "code",
   "execution_count": 7,
   "metadata": {},
   "outputs": [
    {
     "name": "stdout",
     "output_type": "stream",
     "text": [
      "<class 'pandas.core.frame.DataFrame'>\n",
      "Index: 47615 entries, 0 to 1999\n",
      "Data columns (total 3 columns):\n",
      " #   Column        Non-Null Count  Dtype \n",
      "---  ------        --------------  ----- \n",
      " 0   text          47615 non-null  object\n",
      " 1   label         47615 non-null  int64 \n",
      " 2   cleaned_text  47615 non-null  object\n",
      "dtypes: int64(1), object(2)\n",
      "memory usage: 1.5+ MB\n"
     ]
    }
   ],
   "source": [
    "# show info\n",
    "df_combined.info()"
   ]
  },
  {
   "cell_type": "markdown",
   "metadata": {},
   "source": [
    "#### Apply Augmentation On Data For Only Minority class"
   ]
  },
  {
   "cell_type": "code",
   "execution_count": 8,
   "metadata": {},
   "outputs": [],
   "source": [
    "# Apply augmentation\n",
    "augmented_df = augment_data_min(df_combined, 'label', 'cleaned_text')"
   ]
  },
  {
   "cell_type": "code",
   "execution_count": 9,
   "metadata": {},
   "outputs": [
    {
     "data": {
      "text/plain": [
       "label\n",
       "1    20673\n",
       "2    17849\n",
       "0     7093\n",
       "Name: count, dtype: int64"
      ]
     },
     "execution_count": 9,
     "metadata": {},
     "output_type": "execute_result"
    }
   ],
   "source": [
    "# Before Aug\n",
    "df_train['label'].value_counts()"
   ]
  },
  {
   "cell_type": "code",
   "execution_count": 10,
   "metadata": {},
   "outputs": [
    {
     "data": {
      "text/plain": [
       "label\n",
       "1    21542\n",
       "2    19542\n",
       "0    19542\n",
       "Name: count, dtype: int64"
      ]
     },
     "execution_count": 10,
     "metadata": {},
     "output_type": "execute_result"
    }
   ],
   "source": [
    "# After Aug\n",
    "augmented_df['label'].value_counts()"
   ]
  },
  {
   "cell_type": "markdown",
   "metadata": {},
   "source": [
    "#### Apply Augmentation On Data For all class"
   ]
  },
  {
   "cell_type": "code",
   "execution_count": 11,
   "metadata": {},
   "outputs": [],
   "source": [
    "# Apply augmentation\n",
    "augmented_df_first = augment_data_all(augmented_df, 'label', 'cleaned_text')"
   ]
  },
  {
   "cell_type": "code",
   "execution_count": 12,
   "metadata": {},
   "outputs": [
    {
     "data": {
      "text/plain": [
       "label\n",
       "2    41084\n",
       "0    41084\n",
       "1    21542\n",
       "Name: count, dtype: int64"
      ]
     },
     "execution_count": 12,
     "metadata": {},
     "output_type": "execute_result"
    }
   ],
   "source": [
    "augmented_df_first['label'].value_counts()"
   ]
  },
  {
   "cell_type": "markdown",
   "metadata": {},
   "source": [
    "#### Apply Augmentaion for Minority Class Again"
   ]
  },
  {
   "cell_type": "code",
   "execution_count": 13,
   "metadata": {},
   "outputs": [],
   "source": [
    "# Apply augmentation\n",
    "augmented_df_final = augment_data_min(augmented_df_first, 'label', 'cleaned_text')"
   ]
  },
  {
   "cell_type": "code",
   "execution_count": 14,
   "metadata": {},
   "outputs": [
    {
     "data": {
      "text/plain": [
       "label\n",
       "2    41084\n",
       "0    41084\n",
       "1    39084\n",
       "Name: count, dtype: int64"
      ]
     },
     "execution_count": 14,
     "metadata": {},
     "output_type": "execute_result"
    }
   ],
   "source": [
    "augmented_df_final['label'].value_counts()"
   ]
  },
  {
   "cell_type": "markdown",
   "metadata": {},
   "source": [
    "#### Get train and test data"
   ]
  },
  {
   "cell_type": "code",
   "execution_count": 15,
   "metadata": {},
   "outputs": [],
   "source": [
    "# Split data into training and testing\n",
    "X_train_aug = augmented_df_final['cleaned_text']\n",
    "y_train_aug = augmented_df_final['label']\n",
    "X_test_aug = df_test['cleaned_text']\n",
    "y_test_aug = df_test['label']"
   ]
  },
  {
   "cell_type": "markdown",
   "metadata": {},
   "source": [
    "#### Vectorize data with `TF-IDF`"
   ]
  },
  {
   "cell_type": "code",
   "execution_count": 16,
   "metadata": {},
   "outputs": [],
   "source": [
    "# Ensure the text data is string type\n",
    "X_train_aug = X_train_aug.astype(str)\n",
    "X_test_aug = X_test_aug.astype(str)"
   ]
  },
  {
   "cell_type": "code",
   "execution_count": 19,
   "metadata": {},
   "outputs": [],
   "source": [
    "# Vectorize text data\n",
    "X_train_tfidf_aug, X_test_tfidf_aug = vectorize_data(X_train_aug, X_test_aug)"
   ]
  },
  {
   "cell_type": "markdown",
   "metadata": {},
   "source": [
    "#### Train Models On Augmented data "
   ]
  },
  {
   "cell_type": "code",
   "execution_count": 22,
   "metadata": {},
   "outputs": [
    {
     "name": "stderr",
     "output_type": "stream",
     "text": [
      "Training Models:   0%|          | 0/6 [00:00<?, ?it/s]"
     ]
    },
    {
     "name": "stdout",
     "output_type": "stream",
     "text": [
      "Training LogisticRegression...\n"
     ]
    },
    {
     "name": "stderr",
     "output_type": "stream",
     "text": [
      "Training Models:  17%|█▋        | 1/6 [00:12<01:02, 12.50s/it]"
     ]
    },
    {
     "name": "stdout",
     "output_type": "stream",
     "text": [
      "LogisticRegression training complete in 12.50 seconds.\n",
      "============================================================\n",
      "Training SVC...\n"
     ]
    },
    {
     "name": "stderr",
     "output_type": "stream",
     "text": [
      "Training Models:  33%|███▎      | 2/6 [1:30:50<3:33:36, 3204.04s/it]"
     ]
    },
    {
     "name": "stdout",
     "output_type": "stream",
     "text": [
      "SVC training complete in 5438.11 seconds.\n",
      "============================================================\n",
      "Training RandomForestClassifier...\n"
     ]
    },
    {
     "name": "stderr",
     "output_type": "stream",
     "text": [
      "Training Models:  50%|█████     | 3/6 [1:36:21<1:34:36, 1892.19s/it]"
     ]
    },
    {
     "name": "stdout",
     "output_type": "stream",
     "text": [
      "RandomForestClassifier training complete in 331.08 seconds.\n",
      "============================================================\n",
      "Training MultinomialNB...\n",
      "MultinomialNB training complete in 0.02 seconds.\n",
      "============================================================\n",
      "Training GradientBoostingClassifier...\n"
     ]
    },
    {
     "name": "stderr",
     "output_type": "stream",
     "text": [
      "Training Models:  83%|████████▎ | 5/6 [1:38:32<14:17, 857.94s/it]   "
     ]
    },
    {
     "name": "stdout",
     "output_type": "stream",
     "text": [
      "GradientBoostingClassifier training complete in 130.35 seconds.\n",
      "============================================================\n",
      "Training XGBClassifier...\n"
     ]
    },
    {
     "name": "stderr",
     "output_type": "stream",
     "text": [
      "Training Models: 100%|██████████| 6/6 [1:39:42<00:00, 997.00s/it]"
     ]
    },
    {
     "name": "stdout",
     "output_type": "stream",
     "text": [
      "XGBClassifier training complete in 69.96 seconds.\n",
      "============================================================\n"
     ]
    },
    {
     "name": "stderr",
     "output_type": "stream",
     "text": [
      "\n"
     ]
    }
   ],
   "source": [
    "def train_models_grid_search(models, X_train, y_train):\n",
    "    \"\"\"\n",
    "    Train multiple models with grid search for hyperparameter tuning.\n",
    "    \n",
    "    Args:\n",
    "        models (list): List of tuples containing model name and sklearn model instances.\n",
    "        X_train (sparse matrix): Training data.\n",
    "        y_train (pd.Series): Training labels.\n",
    "        \n",
    "    Returns:\n",
    "        list: List of trained models with best parameters.\n",
    "    \"\"\"\n",
    "    trained_models = []\n",
    "    for name, model, params in models:\n",
    "        print(f\"Training {name}...\")\n",
    "        grid_search = GridSearchCV(model, params, cv=3, scoring='accuracy', n_jobs=-1, verbose=1)\n",
    "        grid_search.fit(X_train, y_train)\n",
    "        trained_models.append((name, grid_search.best_estimator_))\n",
    "        print(f\"{name} training complete. Best params: {grid_search.best_params_}\")\n",
    "        print(\"=\"*60)\n",
    "    return trained_models\n",
    "\n",
    "# # Initialize models with hyperparameters for grid search\n",
    "# models = [\n",
    "#     ('LogisticRegression', LogisticRegression(max_iter=1000), {'C': [0.1, 1, 10]}),\n",
    "#     ('SVC', SVC(), {'C': [0.1, 1, 10], 'kernel': ['linear', 'rbf']}),\n",
    "#     ('RandomForest', RandomForestClassifier(), {'n_estimators': [100, 200], 'max_depth': [None, 10, 20]}),\n",
    "#     ('MultinomialNB', MultinomialNB(), {'alpha': [0.1, 1, 10]}),\n",
    "#     ('GradientBoosting', GradientBoostingClassifier(), {'n_estimators': [100, 200], 'learning_rate': [0.01, 0.1, 1]}),\n",
    "#     ('XGBClassifier', xgb.XGBClassifier(objective='multi:softprob', use_label_encoder=False), {'n_estimators': [100, 200], 'learning_rate': [0.01, 0.1, 1]})\n",
    "# ]\n",
    "\n",
    "# # Train models with grid search\n",
    "# trained_models_aug = train_models_grid_search(models, X_train_tfidf_aug, y_train_aug)\n",
    "\n",
    "# Initialize models\n",
    "models = [\n",
    "    LogisticRegression(max_iter=1000),\n",
    "    SVC(),\n",
    "    RandomForestClassifier(),\n",
    "    MultinomialNB(),\n",
    "    GradientBoostingClassifier(),\n",
    "    xgb.XGBClassifier(objective='multi:softprob', num_class=3)\n",
    "]\n",
    "\n",
    "# Train models\n",
    "trained_models_aug = train_models(models, X_train_tfidf_aug, y_train_aug)"
   ]
  },
  {
   "cell_type": "markdown",
   "metadata": {},
   "source": [
    "#### Evaluate And Show Results"
   ]
  },
  {
   "cell_type": "code",
   "execution_count": 24,
   "metadata": {},
   "outputs": [
    {
     "name": "stderr",
     "output_type": "stream",
     "text": [
      "/tmp/ipykernel_5441/232198537.py:8: FutureWarning: \n",
      "\n",
      "Passing `palette` without assigning `hue` is deprecated and will be removed in v0.14.0. Assign the `x` variable to `hue` and set `legend=False` for the same effect.\n",
      "\n",
      "  sns.barplot(x='model', y='test_accuracy', data=results_df_aug, palette='viridis')\n"
     ]
    },
    {
     "data": {
      "image/png": "[encoded data removed]",
      "text/plain": [
       "<Figure size 1200x600 with 1 Axes>"
      ]
     },
     "metadata": {},
     "output_type": "display_data"
    }
   ],
   "source": [
    "# Evaluate models\n",
    "results_df_aug = evaluate_models(trained_models_aug, X_test_tfidf_aug, y_test_aug)\n",
    "\n",
    "# Plotting\n",
    "plt.figure(figsize=(12, 6))\n",
    "\n",
    "# Bar plot for test accuracy\n",
    "sns.barplot(x='model', y='test_accuracy', data=results_df_aug, palette='viridis')\n",
    "plt.title('Test Accuracy for Different Models')\n",
    "plt.xlabel('Model')\n",
    "plt.ylabel('Test Accuracy')\n",
    "plt.xticks(rotation=45)\n",
    "\n",
    "# Adding accuracy values on top of the bars\n",
    "for index, row in results_df_aug.iterrows():\n",
    "    plt.text(index, row.test_accuracy, f\"{row.test_accuracy:.2%}\", color='black', ha=\"center\")\n",
    "\n",
    "plt.tight_layout()\n",
    "plt.show()\n",
    "\n",
    "# # Display the DataFrame\n",
    "# print(results_df_aug)\n"
   ]
  },
  {
   "cell_type": "code",
   "execution_count": 25,
   "metadata": {},
   "outputs": [
    {
     "data": {
      "text/html": [
       "<div>\n",
       "<style scoped>\n",
       "    .dataframe tbody tr th:only-of-type {\n",
       "        vertical-align: middle;\n",
       "    }\n",
       "\n",
       "    .dataframe tbody tr th {\n",
       "        vertical-align: top;\n",
       "    }\n",
       "\n",
       "    .dataframe thead th {\n",
       "        text-align: right;\n",
       "    }\n",
       "</style>\n",
       "<table border=\"1\" class=\"dataframe\">\n",
       "  <thead>\n",
       "    <tr style=\"text-align: right;\">\n",
       "      <th></th>\n",
       "      <th>model</th>\n",
       "      <th>test_accuracy</th>\n",
       "      <th>training_time</th>\n",
       "      <th>classification_report</th>\n",
       "    </tr>\n",
       "  </thead>\n",
       "  <tbody>\n",
       "    <tr>\n",
       "      <th>0</th>\n",
       "      <td>LogisticRegression</td>\n",
       "      <td>0.554054</td>\n",
       "      <td>12.499074</td>\n",
       "      <td>precision    recall  f1-score   ...</td>\n",
       "    </tr>\n",
       "    <tr>\n",
       "      <th>1</th>\n",
       "      <td>SVC</td>\n",
       "      <td>0.569196</td>\n",
       "      <td>5438.111738</td>\n",
       "      <td>precision    recall  f1-score   ...</td>\n",
       "    </tr>\n",
       "    <tr>\n",
       "      <th>2</th>\n",
       "      <td>RandomForestClassifier</td>\n",
       "      <td>0.558776</td>\n",
       "      <td>331.083675</td>\n",
       "      <td>precision    recall  f1-score   ...</td>\n",
       "    </tr>\n",
       "    <tr>\n",
       "      <th>3</th>\n",
       "      <td>MultinomialNB</td>\n",
       "      <td>0.537854</td>\n",
       "      <td>0.020531</td>\n",
       "      <td>precision    recall  f1-score   ...</td>\n",
       "    </tr>\n",
       "    <tr>\n",
       "      <th>4</th>\n",
       "      <td>GradientBoostingClassifier</td>\n",
       "      <td>0.557717</td>\n",
       "      <td>130.347470</td>\n",
       "      <td>precision    recall  f1-score   ...</td>\n",
       "    </tr>\n",
       "    <tr>\n",
       "      <th>5</th>\n",
       "      <td>XGBClassifier</td>\n",
       "      <td>0.581162</td>\n",
       "      <td>69.957036</td>\n",
       "      <td>precision    recall  f1-score   ...</td>\n",
       "    </tr>\n",
       "  </tbody>\n",
       "</table>\n",
       "</div>"
      ],
      "text/plain": [
       "                        model  test_accuracy  training_time  \\\n",
       "0          LogisticRegression       0.554054      12.499074   \n",
       "1                         SVC       0.569196    5438.111738   \n",
       "2      RandomForestClassifier       0.558776     331.083675   \n",
       "3               MultinomialNB       0.537854       0.020531   \n",
       "4  GradientBoostingClassifier       0.557717     130.347470   \n",
       "5               XGBClassifier       0.581162      69.957036   \n",
       "\n",
       "                               classification_report  \n",
       "0                precision    recall  f1-score   ...  \n",
       "1                precision    recall  f1-score   ...  \n",
       "2                precision    recall  f1-score   ...  \n",
       "3                precision    recall  f1-score   ...  \n",
       "4                precision    recall  f1-score   ...  \n",
       "5                precision    recall  f1-score   ...  "
      ]
     },
     "execution_count": 25,
     "metadata": {},
     "output_type": "execute_result"
    }
   ],
   "source": [
    "results_df_aug"
   ]
  },
  {
   "cell_type": "markdown",
   "metadata": {},
   "source": [
    "### Text Augmention USing `nlpaug`"
   ]
  },
  {
   "cell_type": "markdown",
   "metadata": {},
   "source": [
    "#### Import Libraries"
   ]
  },
  {
   "cell_type": "code",
   "execution_count": 38,
   "metadata": {},
   "outputs": [],
   "source": [
    "import nlpaug.augmenter.word as naw\n",
    "import nlpaug.augmenter.sentence as nas\n",
    "import nlpaug.flow as naf"
   ]
  },
  {
   "cell_type": "markdown",
   "metadata": {},
   "source": [
    "#### Augment Data"
   ]
  },
  {
   "cell_type": "code",
   "execution_count": 42,
   "metadata": {},
   "outputs": [],
   "source": [
    "def augment_data_all(df, label_column, text_column):\n",
    "    \"\"\"\n",
    "    Augment the dataset using sequential augmentation for all classes to balance the dataset.\n",
    "    \n",
    "    Args:\n",
    "        df (pd.DataFrame): DataFrame containing the dataset.\n",
    "        label_column (str): The column name of the labels in the DataFrame.\n",
    "        text_column (str): The column name of the text data in the DataFrame.\n",
    "        \n",
    "    Returns:\n",
    "        pd.DataFrame: Augmented DataFrame.\n",
    "    \"\"\"\n",
    "    augmented_data = []\n",
    "\n",
    "    label_counts = df[label_column].value_counts()\n",
    "    max_count = label_counts.max()\n",
    "    print(f'max_count : {max_count} for labels with counts {label_counts}')\n",
    "\n",
    "    # Define sequential augmenters\n",
    "    augmenters = naf.Sequential([\n",
    "        naw.SynonymAug(aug_src='wordnet'),\n",
    "        naw.RandomWordAug(action='swap'),\n",
    "        naw.RandomWordAug(action=\"delete\")\n",
    "    ])\n",
    "\n",
    "    for label in label_counts.index:\n",
    "        df_label = df[df[label_column] == label]\n",
    "        initial_count = len(df_label)\n",
    "        if initial_count < max_count:  # Only augment if current count is less than max_count\n",
    "            print(f'Augment data of label : {label}')\n",
    "            while len(df_label) < max_count:\n",
    "                remaining_to_augment = max_count - len(df_label)\n",
    "                augment_batch = min(remaining_to_augment, initial_count)\n",
    "                augmented_texts = df_label[text_column].sample(augment_batch, replace=True).apply(lambda x: augmenters.augment(x))\n",
    "                df_label = pd.concat([df_label, pd.DataFrame({text_column: augmented_texts, label_column: label})])\n",
    "                df_label = df_label.head(max_count)\n",
    "        augmented_data.append(df_label)\n",
    "    \n",
    "    augmented_df = pd.concat(augmented_data).reset_index(drop=True)\n",
    "    return augmented_df\n",
    "\n"
   ]
  },
  {
   "cell_type": "code",
   "execution_count": 43,
   "metadata": {},
   "outputs": [
    {
     "name": "stdout",
     "output_type": "stream",
     "text": [
      "max_count : 21542 for labels with counts label\n",
      "1    21542\n",
      "2    18668\n",
      "0     7405\n",
      "Name: count, dtype: int64\n",
      "Augment data of label : 2\n",
      "Augment data of label : 0\n"
     ]
    }
   ],
   "source": [
    "# Augment the training data\n",
    "augmented_train_df = augment_data_all(df_combined, 'label', 'cleaned_text')"
   ]
  },
  {
   "cell_type": "code",
   "execution_count": 44,
   "metadata": {},
   "outputs": [
    {
     "data": {
      "text/plain": [
       "label\n",
       "1    21542\n",
       "2    21542\n",
       "0    21542\n",
       "Name: count, dtype: int64"
      ]
     },
     "execution_count": 44,
     "metadata": {},
     "output_type": "execute_result"
    }
   ],
   "source": [
    "augmented_train_df['label'].value_counts()"
   ]
  },
  {
   "cell_type": "markdown",
   "metadata": {},
   "source": [
    "#### Get train and test data"
   ]
  },
  {
   "cell_type": "code",
   "execution_count": 45,
   "metadata": {},
   "outputs": [],
   "source": [
    "# Split data into training and testing\n",
    "X_train_aug_2 = augmented_train_df['cleaned_text']\n",
    "y_train_aug_2 = augmented_train_df['label']\n",
    "X_test_aug_2  = df_test['cleaned_text']\n",
    "y_test_aug_2  = df_test['label']"
   ]
  },
  {
   "cell_type": "code",
   "execution_count": 47,
   "metadata": {},
   "outputs": [],
   "source": [
    "# Ensure the text data is string type\n",
    "X_train_aug_2 = X_train_aug_2.astype(str)\n",
    "X_test_aug_2 = X_test_aug_2.astype(str)\n",
    "\n",
    "# Vectorize text data\n",
    "X_train_tfidf_aug_2, X_test_tfidf_aug_2 = vectorize_data(X_train_aug_2, X_test_aug_2)"
   ]
  },
  {
   "cell_type": "code",
   "execution_count": 51,
   "metadata": {},
   "outputs": [
    {
     "name": "stdout",
     "output_type": "stream",
     "text": [
      "Training XGBClassifier...\n",
      "Fitting 3 folds for each of 6 candidates, totalling 18 fits\n"
     ]
    },
    {
     "name": "stderr",
     "output_type": "stream",
     "text": [
      "/home/omar/Documents/tf_gpu_env/lib/python3.10/site-packages/xgboost/core.py:158: UserWarning: [18:40:54] WARNING: /workspace/src/learner.cc:740: \n",
      "Parameters: { \"use_label_encoder\" } are not used.\n",
      "\n",
      "  warnings.warn(smsg, UserWarning)\n",
      "/home/omar/Documents/tf_gpu_env/lib/python3.10/site-packages/xgboost/core.py:158: UserWarning: [18:40:54] WARNING: /workspace/src/learner.cc:740: \n",
      "Parameters: { \"use_label_encoder\" } are not used.\n",
      "\n",
      "  warnings.warn(smsg, UserWarning)\n",
      "/home/omar/Documents/tf_gpu_env/lib/python3.10/site-packages/xgboost/core.py:158: UserWarning: [18:40:54] WARNING: /workspace/src/learner.cc:740: \n",
      "Parameters: { \"use_label_encoder\" } are not used.\n",
      "\n",
      "  warnings.warn(smsg, UserWarning)\n",
      "/home/omar/Documents/tf_gpu_env/lib/python3.10/site-packages/xgboost/core.py:158: UserWarning: [18:40:54] WARNING: /workspace/src/learner.cc:740: \n",
      "Parameters: { \"use_label_encoder\" } are not used.\n",
      "\n",
      "  warnings.warn(smsg, UserWarning)\n",
      "/home/omar/Documents/tf_gpu_env/lib/python3.10/site-packages/xgboost/core.py:158: UserWarning: [18:40:54] WARNING: /workspace/src/learner.cc:740: \n",
      "Parameters: { \"use_label_encoder\" } are not used.\n",
      "\n",
      "  warnings.warn(smsg, UserWarning)\n",
      "/home/omar/Documents/tf_gpu_env/lib/python3.10/site-packages/xgboost/core.py:158: UserWarning: [18:40:54] WARNING: /workspace/src/learner.cc:740: \n",
      "Parameters: { \"use_label_encoder\" } are not used.\n",
      "\n",
      "  warnings.warn(smsg, UserWarning)\n",
      "/home/omar/Documents/tf_gpu_env/lib/python3.10/site-packages/xgboost/core.py:158: UserWarning: [18:40:54] WARNING: /workspace/src/learner.cc:740: \n",
      "Parameters: { \"use_label_encoder\" } are not used.\n",
      "\n",
      "  warnings.warn(smsg, UserWarning)\n",
      "/home/omar/Documents/tf_gpu_env/lib/python3.10/site-packages/xgboost/core.py:158: UserWarning: [18:40:54] WARNING: /workspace/src/learner.cc:740: \n",
      "Parameters: { \"use_label_encoder\" } are not used.\n",
      "\n",
      "  warnings.warn(smsg, UserWarning)\n",
      "/home/omar/Documents/tf_gpu_env/lib/python3.10/site-packages/xgboost/core.py:158: UserWarning: [18:45:07] WARNING: /workspace/src/learner.cc:740: \n",
      "Parameters: { \"use_label_encoder\" } are not used.\n",
      "\n",
      "  warnings.warn(smsg, UserWarning)\n",
      "/home/omar/Documents/tf_gpu_env/lib/python3.10/site-packages/xgboost/core.py:158: UserWarning: [18:45:11] WARNING: /workspace/src/learner.cc:740: \n",
      "Parameters: { \"use_label_encoder\" } are not used.\n",
      "\n",
      "  warnings.warn(smsg, UserWarning)\n",
      "/home/omar/Documents/tf_gpu_env/lib/python3.10/site-packages/xgboost/core.py:158: UserWarning: [18:45:44] WARNING: /workspace/src/learner.cc:740: \n",
      "Parameters: { \"use_label_encoder\" } are not used.\n",
      "\n",
      "  warnings.warn(smsg, UserWarning)\n",
      "/home/omar/Documents/tf_gpu_env/lib/python3.10/site-packages/xgboost/core.py:158: UserWarning: [18:45:51] WARNING: /workspace/src/learner.cc:740: \n",
      "Parameters: { \"use_label_encoder\" } are not used.\n",
      "\n",
      "  warnings.warn(smsg, UserWarning)\n",
      "/home/omar/Documents/tf_gpu_env/lib/python3.10/site-packages/xgboost/core.py:158: UserWarning: [18:46:05] WARNING: /workspace/src/learner.cc:740: \n",
      "Parameters: { \"use_label_encoder\" } are not used.\n",
      "\n",
      "  warnings.warn(smsg, UserWarning)\n",
      "/home/omar/Documents/tf_gpu_env/lib/python3.10/site-packages/xgboost/core.py:158: UserWarning: [18:48:52] WARNING: /workspace/src/learner.cc:740: \n",
      "Parameters: { \"use_label_encoder\" } are not used.\n",
      "\n",
      "  warnings.warn(smsg, UserWarning)\n",
      "/home/omar/Documents/tf_gpu_env/lib/python3.10/site-packages/xgboost/core.py:158: UserWarning: [18:48:55] WARNING: /workspace/src/learner.cc:740: \n",
      "Parameters: { \"use_label_encoder\" } are not used.\n",
      "\n",
      "  warnings.warn(smsg, UserWarning)\n",
      "/home/omar/Documents/tf_gpu_env/lib/python3.10/site-packages/xgboost/core.py:158: UserWarning: [18:49:36] WARNING: /workspace/src/learner.cc:740: \n",
      "Parameters: { \"use_label_encoder\" } are not used.\n",
      "\n",
      "  warnings.warn(smsg, UserWarning)\n",
      "/home/omar/Documents/tf_gpu_env/lib/python3.10/site-packages/xgboost/core.py:158: UserWarning: [18:50:00] WARNING: /workspace/src/learner.cc:740: \n",
      "Parameters: { \"use_label_encoder\" } are not used.\n",
      "\n",
      "  warnings.warn(smsg, UserWarning)\n",
      "/home/omar/Documents/tf_gpu_env/lib/python3.10/site-packages/xgboost/core.py:158: UserWarning: [18:50:05] WARNING: /workspace/src/learner.cc:740: \n",
      "Parameters: { \"use_label_encoder\" } are not used.\n",
      "\n",
      "  warnings.warn(smsg, UserWarning)\n",
      "/home/omar/Documents/tf_gpu_env/lib/python3.10/site-packages/xgboost/core.py:158: UserWarning: [18:54:46] WARNING: /workspace/src/learner.cc:740: \n",
      "Parameters: { \"use_label_encoder\" } are not used.\n",
      "\n",
      "  warnings.warn(smsg, UserWarning)\n"
     ]
    },
    {
     "name": "stdout",
     "output_type": "stream",
     "text": [
      "XGBClassifier training complete. Best params: {'learning_rate': 1, 'n_estimators': 200}\n",
      "============================================================\n"
     ]
    }
   ],
   "source": [
    "# Initialize models\n",
    "models = [\n",
    "    # LogisticRegression(max_iter=1000),\n",
    "    # SVC(),\n",
    "    # RandomForestClassifier(),\n",
    "    # MultinomialNB(),\n",
    "    # GradientBoostingClassifier(),\n",
    "    ('XGBClassifier', xgb.XGBClassifier(objective='multi:softprob', use_label_encoder=False), {'n_estimators': [100, 200], 'learning_rate': [0.01, 0.1, 1]})\n",
    "]\n",
    "\n",
    "# Train models\n",
    "trained_models_aug_2 = train_models_grid_search(models, X_train_tfidf_aug_2, y_train_aug_2)"
   ]
  },
  {
   "cell_type": "code",
   "execution_count": 49,
   "metadata": {},
   "outputs": [
    {
     "name": "stderr",
     "output_type": "stream",
     "text": [
      "/tmp/ipykernel_5441/2987853156.py:8: FutureWarning: \n",
      "\n",
      "Passing `palette` without assigning `hue` is deprecated and will be removed in v0.14.0. Assign the `x` variable to `hue` and set `legend=False` for the same effect.\n",
      "\n",
      "  sns.barplot(x='model', y='test_accuracy', data=results_df_aug, palette='viridis')\n"
     ]
    },
    {
     "data": {
      "image/png": "[encoded data removed]",
      "text/plain": [
       "<Figure size 1200x600 with 1 Axes>"
      ]
     },
     "metadata": {},
     "output_type": "display_data"
    }
   ],
   "source": [
    "# Evaluate models\n",
    "results_df_aug_2 = evaluate_models(trained_models_aug_2, X_test_tfidf_aug_2, y_test_aug_2)\n",
    "\n",
    "# Plotting\n",
    "plt.figure(figsize=(12, 6))\n",
    "\n",
    "# Bar plot for test accuracy\n",
    "sns.barplot(x='model', y='test_accuracy', data=results_df_aug, palette='viridis')\n",
    "plt.title('Test Accuracy for Different Models')\n",
    "plt.xlabel('Model')\n",
    "plt.ylabel('Test Accuracy')\n",
    "plt.xticks(rotation=45)\n",
    "\n",
    "# Adding accuracy values on top of the bars\n",
    "for index, row in results_df_aug.iterrows():\n",
    "    plt.text(index, row.test_accuracy, f\"{row.test_accuracy:.2%}\", color='black', ha=\"center\")\n",
    "\n",
    "plt.tight_layout()\n",
    "plt.show()\n",
    "\n",
    "# # Display the DataFrame\n",
    "# print(results_df_aug)\n"
   ]
  },
  {
   "cell_type": "code",
   "execution_count": null,
   "metadata": {},
   "outputs": [],
   "source": []
  }
 ],
 "metadata": {
  "kernelspec": {
   "display_name": "tf_gpu_env",
   "language": "python",
   "name": "python3"
  },
  "language_info": {
   "codemirror_mode": {
    "name": "ipython",
    "version": 3
   },
   "file_extension": ".py",
   "mimetype": "text/x-python",
   "name": "python",
   "nbconvert_exporter": "python",
   "pygments_lexer": "ipython3",
   "version": "3.10.12"
  }
 },
 "nbformat": 4,
 "nbformat_minor": 2
}
