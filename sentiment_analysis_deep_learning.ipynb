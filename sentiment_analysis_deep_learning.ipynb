{
  "cells": [
    {
      "cell_type": "markdown",
      "metadata": {
        "id": "WwuAEB5yCrfE"
      },
      "source": [
        "## Import Libraries"
      ]
    },
    {
      "cell_type": "code",
      "execution_count": 2,
      "metadata": {
        "colab": {
          "base_uri": "https://localhost:8080/"
        },
        "id": "meF6PLWbGuAG",
        "outputId": "6c1f7b39-8461-4a24-b98a-ed01dc20d88f"
      },
      "outputs": [
        {
          "name": "stdout",
          "output_type": "stream",
          "text": [
            "Collecting contractions\n",
            "  Downloading contractions-0.1.73-py2.py3-none-any.whl (8.7 kB)\n",
            "Collecting nlpaug\n",
            "  Downloading nlpaug-1.1.11-py3-none-any.whl (410 kB)\n",
            "\u001b[2K     \u001b[90m━━━━━━━━━━━━━━━━━━━━━━━━━━━━━━━━━━━━━━━━\u001b[0m \u001b[32m410.5/410.5 kB\u001b[0m \u001b[31m5.8 MB/s\u001b[0m eta \u001b[36m0:00:00\u001b[0m\n",
            "\u001b[?25hCollecting textsearch>=0.0.21 (from contractions)\n",
            "  Downloading textsearch-0.0.24-py2.py3-none-any.whl (7.6 kB)\n",
            "Requirement already satisfied: numpy>=1.16.2 in /usr/local/lib/python3.10/dist-packages (from nlpaug) (1.25.2)\n",
            "Requirement already satisfied: pandas>=1.2.0 in /usr/local/lib/python3.10/dist-packages (from nlpaug) (2.0.3)\n",
            "Requirement already satisfied: requests>=2.22.0 in /usr/local/lib/python3.10/dist-packages (from nlpaug) (2.31.0)\n",
            "Requirement already satisfied: gdown>=4.0.0 in /usr/local/lib/python3.10/dist-packages (from nlpaug) (5.1.0)\n",
            "Requirement already satisfied: beautifulsoup4 in /usr/local/lib/python3.10/dist-packages (from gdown>=4.0.0->nlpaug) (4.12.3)\n",
            "Requirement already satisfied: filelock in /usr/local/lib/python3.10/dist-packages (from gdown>=4.0.0->nlpaug) (3.15.4)\n",
            "Requirement already satisfied: tqdm in /usr/local/lib/python3.10/dist-packages (from gdown>=4.0.0->nlpaug) (4.66.4)\n",
            "Requirement already satisfied: python-dateutil>=2.8.2 in /usr/local/lib/python3.10/dist-packages (from pandas>=1.2.0->nlpaug) (2.8.2)\n",
            "Requirement already satisfied: pytz>=2020.1 in /usr/local/lib/python3.10/dist-packages (from pandas>=1.2.0->nlpaug) (2023.4)\n",
            "Requirement already satisfied: tzdata>=2022.1 in /usr/local/lib/python3.10/dist-packages (from pandas>=1.2.0->nlpaug) (2024.1)\n",
            "Requirement already satisfied: charset-normalizer<4,>=2 in /usr/local/lib/python3.10/dist-packages (from requests>=2.22.0->nlpaug) (3.3.2)\n",
            "Requirement already satisfied: idna<4,>=2.5 in /usr/local/lib/python3.10/dist-packages (from requests>=2.22.0->nlpaug) (3.7)\n",
            "Requirement already satisfied: urllib3<3,>=1.21.1 in /usr/local/lib/python3.10/dist-packages (from requests>=2.22.0->nlpaug) (2.0.7)\n",
            "Requirement already satisfied: certifi>=2017.4.17 in /usr/local/lib/python3.10/dist-packages (from requests>=2.22.0->nlpaug) (2024.7.4)\n",
            "Collecting anyascii (from textsearch>=0.0.21->contractions)\n",
            "  Downloading anyascii-0.3.2-py3-none-any.whl (289 kB)\n",
            "\u001b[2K     \u001b[90m━━━━━━━━━━━━━━━━━━━━━━━━━━━━━━━━━━━━━━━━\u001b[0m \u001b[32m289.9/289.9 kB\u001b[0m \u001b[31m10.8 MB/s\u001b[0m eta \u001b[36m0:00:00\u001b[0m\n",
            "\u001b[?25hCollecting pyahocorasick (from textsearch>=0.0.21->contractions)\n",
            "  Downloading pyahocorasick-2.1.0-cp310-cp310-manylinux_2_5_x86_64.manylinux1_x86_64.manylinux_2_12_x86_64.manylinux2010_x86_64.whl (110 kB)\n",
            "\u001b[2K     \u001b[90m━━━━━━━━━━━━━━━━━━━━━━━━━━━━━━━━━━━━━━━━\u001b[0m \u001b[32m110.7/110.7 kB\u001b[0m \u001b[31m8.7 MB/s\u001b[0m eta \u001b[36m0:00:00\u001b[0m\n",
            "\u001b[?25hRequirement already satisfied: six>=1.5 in /usr/local/lib/python3.10/dist-packages (from python-dateutil>=2.8.2->pandas>=1.2.0->nlpaug) (1.16.0)\n",
            "Requirement already satisfied: soupsieve>1.2 in /usr/local/lib/python3.10/dist-packages (from beautifulsoup4->gdown>=4.0.0->nlpaug) (2.5)\n",
            "Requirement already satisfied: PySocks!=1.5.7,>=1.5.6 in /usr/local/lib/python3.10/dist-packages (from requests>=2.22.0->nlpaug) (1.7.1)\n",
            "Installing collected packages: pyahocorasick, anyascii, textsearch, contractions, nlpaug\n",
            "Successfully installed anyascii-0.3.2 contractions-0.1.73 nlpaug-1.1.11 pyahocorasick-2.1.0 textsearch-0.0.24\n"
          ]
        }
      ],
      "source": [
        "!pip install contractions nlpaug"
      ]
    },
    {
      "cell_type": "code",
      "execution_count": 18,
      "metadata": {
        "colab": {
          "base_uri": "https://localhost:8080/"
        },
        "id": "TRgD5l2uCrfF",
        "outputId": "2d6a7312-e98f-479b-84dc-ead41952c1d5"
      },
      "outputs": [
        {
          "name": "stderr",
          "output_type": "stream",
          "text": [
            "[nltk_data] Downloading package stopwords to /home/omar/nltk_data...\n",
            "[nltk_data]   Package stopwords is already up-to-date!\n",
            "[nltk_data] Downloading package punkt to /home/omar/nltk_data...\n",
            "[nltk_data]   Package punkt is already up-to-date!\n",
            "[nltk_data] Downloading package wordnet to /home/omar/nltk_data...\n",
            "[nltk_data]   Package wordnet is already up-to-date!\n"
          ]
        },
        {
          "data": {
            "text/plain": [
              "True"
            ]
          },
          "execution_count": 18,
          "metadata": {},
          "output_type": "execute_result"
        }
      ],
      "source": [
        "import pandas as pd\n",
        "import re\n",
        "import nltk\n",
        "import random\n",
        "from nltk.corpus import stopwords, wordnet\n",
        "from nltk.tokenize import word_tokenize\n",
        "from nltk.stem import WordNetLemmatizer\n",
        "import matplotlib.pyplot as plt\n",
        "import seaborn as sns\n",
        "import contractions\n",
        "import tensorflow as tf\n",
        "from tensorflow.keras.preprocessing.text import Tokenizer\n",
        "from tensorflow.keras.preprocessing.sequence import pad_sequences\n",
        "from tensorflow.keras.models import Sequential\n",
        "from tensorflow.keras.layers import Embedding, Conv1D, MaxPooling1D, LSTM, Dense, Dropout, Bidirectional\n",
        "from tensorflow.keras.callbacks import EarlyStopping\n",
        "from sklearn.metrics import accuracy_score, classification_report\n",
        "import nlpaug.augmenter.word as naw\n",
        "import nlpaug.augmenter.sentence as nas\n",
        "import nlpaug.flow as naf\n",
        "\n",
        "nltk.download('stopwords')\n",
        "nltk.download('punkt')\n",
        "nltk.download('wordnet')\n"
      ]
    },
    {
      "cell_type": "markdown",
      "metadata": {
        "id": "FfH0dE9ICrfH"
      },
      "source": [
        "## Load Dataset\n"
      ]
    },
    {
      "cell_type": "code",
      "execution_count": 19,
      "metadata": {
        "id": "XaaCmJrWCrfH"
      },
      "outputs": [],
      "source": [
        "# Load the dataset\n",
        "train_df = pd.read_parquet('datasets/tweet_eval_train.parquet')\n",
        "val_df = pd.read_parquet('datasets/tweet_eval_val.parquet')\n",
        "test_df = pd.read_parquet('datasets/tweet_eval_test.parquet')\n"
      ]
    },
    {
      "cell_type": "markdown",
      "metadata": {
        "id": "gnhYIq3MCrfH"
      },
      "source": [
        "### Get Some Insights From Data"
      ]
    },
    {
      "cell_type": "code",
      "execution_count": 20,
      "metadata": {
        "colab": {
          "base_uri": "https://localhost:8080/",
          "height": 206
        },
        "id": "bCVem7TNCrfH",
        "outputId": "fd4b8151-977a-4006-f564-5001a40b0ff8"
      },
      "outputs": [
        {
          "data": {
            "text/html": [
              "<div>\n",
              "<style scoped>\n",
              "    .dataframe tbody tr th:only-of-type {\n",
              "        vertical-align: middle;\n",
              "    }\n",
              "\n",
              "    .dataframe tbody tr th {\n",
              "        vertical-align: top;\n",
              "    }\n",
              "\n",
              "    .dataframe thead th {\n",
              "        text-align: right;\n",
              "    }\n",
              "</style>\n",
              "<table border=\"1\" class=\"dataframe\">\n",
              "  <thead>\n",
              "    <tr style=\"text-align: right;\">\n",
              "      <th></th>\n",
              "      <th>text</th>\n",
              "      <th>label</th>\n",
              "    </tr>\n",
              "  </thead>\n",
              "  <tbody>\n",
              "    <tr>\n",
              "      <th>0</th>\n",
              "      <td>\"QT @user In the original draft of the 7th boo...</td>\n",
              "      <td>2</td>\n",
              "    </tr>\n",
              "    <tr>\n",
              "      <th>1</th>\n",
              "      <td>\"Ben Smith / Smith (concussion) remains out of...</td>\n",
              "      <td>1</td>\n",
              "    </tr>\n",
              "    <tr>\n",
              "      <th>2</th>\n",
              "      <td>Sorry bout the stream last night I crashed out...</td>\n",
              "      <td>1</td>\n",
              "    </tr>\n",
              "    <tr>\n",
              "      <th>3</th>\n",
              "      <td>Chase Headley's RBI double in the 8th inning o...</td>\n",
              "      <td>1</td>\n",
              "    </tr>\n",
              "    <tr>\n",
              "      <th>4</th>\n",
              "      <td>@user Alciato: Bee will invest 150 million in ...</td>\n",
              "      <td>2</td>\n",
              "    </tr>\n",
              "  </tbody>\n",
              "</table>\n",
              "</div>"
            ],
            "text/plain": [
              "                                                text  label\n",
              "0  \"QT @user In the original draft of the 7th boo...      2\n",
              "1  \"Ben Smith / Smith (concussion) remains out of...      1\n",
              "2  Sorry bout the stream last night I crashed out...      1\n",
              "3  Chase Headley's RBI double in the 8th inning o...      1\n",
              "4  @user Alciato: Bee will invest 150 million in ...      2"
            ]
          },
          "execution_count": 20,
          "metadata": {},
          "output_type": "execute_result"
        }
      ],
      "source": [
        "train_df.head()"
      ]
    },
    {
      "cell_type": "code",
      "execution_count": 21,
      "metadata": {
        "colab": {
          "base_uri": "https://localhost:8080/"
        },
        "id": "4jVvsGcICrfI",
        "outputId": "d1951442-8adc-41ee-ce08-d565c71be710"
      },
      "outputs": [
        {
          "data": {
            "text/plain": [
              "label\n",
              "1    20673\n",
              "2    17849\n",
              "0     7093\n",
              "Name: count, dtype: int64"
            ]
          },
          "execution_count": 21,
          "metadata": {},
          "output_type": "execute_result"
        }
      ],
      "source": [
        "train_df['label'].value_counts()"
      ]
    },
    {
      "cell_type": "markdown",
      "metadata": {
        "id": "QqwwanSuCrfI"
      },
      "source": [
        "## Data Preprocessing"
      ]
    },
    {
      "cell_type": "code",
      "execution_count": 22,
      "metadata": {
        "id": "DLnFTDYKCrfI"
      },
      "outputs": [],
      "source": [
        "stop_words = set(stopwords.words('english'))\n",
        "lemmatizer = WordNetLemmatizer()\n",
        "\n",
        "def preprocess_text(text):\n",
        "    \"\"\"\n",
        "    Preprocess text by removing mentions, URLs, special characters, stop words, emojis,\n",
        "    expanding contractions, correcting spelling, and lemmatizing.\n",
        "\n",
        "    Args:\n",
        "        text (str): Raw text data.\n",
        "\n",
        "    Returns:\n",
        "        str: Cleaned text data.\n",
        "    \"\"\"\n",
        "    text = re.sub(r'(@\\w+|http\\S+)', '', text)\n",
        "    text = contractions.fix(text)\n",
        "    text = re.sub(r'[^a-zA-Z\\s]', '', text)\n",
        "    text = text.lower()\n",
        "    tokens = word_tokenize(text)\n",
        "    tokens = [lemmatizer.lemmatize(word) for word in tokens if word not in stop_words]\n",
        "    text = ' '.join(tokens)\n",
        "    return text\n"
      ]
    },
    {
      "cell_type": "markdown",
      "metadata": {
        "id": "DLFmAtWJCrfI"
      },
      "source": [
        "### Applying Preprocessing on Data"
      ]
    },
    {
      "cell_type": "code",
      "execution_count": 23,
      "metadata": {
        "id": "6dji8YMHCrfI"
      },
      "outputs": [],
      "source": [
        "train_df['cleaned_text'] = train_df['text'].apply(preprocess_text)\n",
        "val_df['cleaned_text'] = val_df['text'].apply(preprocess_text)\n",
        "test_df['cleaned_text'] = test_df['text'].apply(preprocess_text)"
      ]
    },
    {
      "cell_type": "markdown",
      "metadata": {
        "id": "47aXDGEDCrfJ"
      },
      "source": [
        "## Handling Imbalanced Data using Augmentation Using `nlpaug` Library\n",
        "\n",
        "The nlpaug library provides a wide range of augmentation techniques beyond synonym replacement, contextual word embeddings insertion, and random word deletion"
      ]
    },
    {
      "cell_type": "code",
      "execution_count": 24,
      "metadata": {
        "id": "-9LzIFdkUnmI"
      },
      "outputs": [],
      "source": [
        "# def augment_data_minority(df, label_column, text_column, range_diff=1000):\n",
        "#     \"\"\"\n",
        "#     Augment the minority class using simpler sequential augmentation until its count\n",
        "#     becomes within range_diff from the majority class size.\n",
        "\n",
        "#     Args:\n",
        "#         df (pd.DataFrame): DataFrame containing the dataset.\n",
        "#         label_column (str): The column name of the labels in the DataFrame.\n",
        "#         text_column (str): The column name of the text data in the DataFrame.\n",
        "#         range_diff (int): The acceptable range difference from the majority class size.\n",
        "\n",
        "#     Returns:\n",
        "#         pd.DataFrame: Augmented DataFrame.\n",
        "#     \"\"\"\n",
        "#     augmented_data = []\n",
        "\n",
        "#     label_counts = df[label_column].value_counts()\n",
        "#     max_count = label_counts.max()\n",
        "#     min_label = label_counts.idxmin()\n",
        "#     min_count = label_counts.min()\n",
        "\n",
        "#     # Define simpler sequential augmenters\n",
        "#     augmenters = naf.Sequential([\n",
        "#         naw.SynonymAug(aug_src='wordnet'),\n",
        "#         naw.RandomWordAug(action=\"delete\")\n",
        "#     ])\n",
        "\n",
        "#     df_label = df[df[label_column] == min_label]\n",
        "#     while len(df_label) < max_count - range_diff:\n",
        "#         augmented_texts = df_label[text_column].apply(lambda x: augmenters.augment(x))\n",
        "#         augmented_data.append(pd.DataFrame({text_column: augmented_texts, label_column: min_label}))\n",
        "#         df_label = pd.concat([df_label, augmented_data[-1]]).head(max_count - range_diff)\n",
        "\n",
        "#     # Combine the original data with the augmented data\n",
        "#     other_data = df[df[label_column] != min_label]\n",
        "#     augmented_df = pd.concat([other_data, df_label]).reset_index(drop=True)\n",
        "\n",
        "#     return augmented_df\n",
        "\n",
        "# # Augment the training data\n",
        "# augmented_train_df = augment_data_minority(train_df, 'label', 'cleaned_text')\n"
      ]
    },
    {
      "cell_type": "code",
      "execution_count": 25,
      "metadata": {
        "id": "rd8pQU_LCrfJ"
      },
      "outputs": [],
      "source": [
        "def augment_data_all(df, label_column, text_column):\n",
        "    \"\"\"\n",
        "    Augment the dataset using sequential augmentation for all classes to balance the dataset.\n",
        "\n",
        "    Args:\n",
        "        df (pd.DataFrame): DataFrame containing the dataset.\n",
        "        label_column (str): The column name of the labels in the DataFrame.\n",
        "        text_column (str): The column name of the text data in the DataFrame.\n",
        "\n",
        "    Returns:\n",
        "        pd.DataFrame: Augmented DataFrame.\n",
        "    \"\"\"\n",
        "    augmented_data = []\n",
        "\n",
        "    label_counts = df[label_column].value_counts()\n",
        "    max_count = label_counts.max()\n",
        "    print(f'max_count : {max_count} for labels with counts {label_counts}')\n",
        "\n",
        "    # Define sequential augmenters\n",
        "    augmenters = naf.Sequential([\n",
        "        naw.SynonymAug(aug_src='wordnet'),\n",
        "        naw.RandomWordAug(action='swap'),\n",
        "        naw.RandomWordAug(action=\"delete\")\n",
        "    ])\n",
        "\n",
        "    for label in label_counts.index:\n",
        "        df_label = df[df[label_column] == label]\n",
        "        initial_count = len(df_label)\n",
        "        if initial_count < max_count:  # Only augment if current count is less than max_count\n",
        "            print(f'Augment data of label : {label}')\n",
        "            while len(df_label) < max_count:\n",
        "                remaining_to_augment = max_count - len(df_label)\n",
        "                augment_batch = min(remaining_to_augment, initial_count)\n",
        "                augmented_texts = df_label[text_column].sample(augment_batch, replace=True).apply(lambda x: augmenters.augment(x))\n",
        "                df_label = pd.concat([df_label, pd.DataFrame({text_column: augmented_texts, label_column: label})])\n",
        "                df_label = df_label.head(max_count)\n",
        "        augmented_data.append(df_label)\n",
        "\n",
        "    augmented_df = pd.concat(augmented_data).reset_index(drop=True)\n",
        "    return augmented_df\n",
        "\n"
      ]
    },
    {
      "cell_type": "code",
      "execution_count": 26,
      "metadata": {
        "colab": {
          "base_uri": "https://localhost:8080/"
        },
        "id": "ar1H5ioiCrfJ",
        "outputId": "f2c9acc5-5d5c-4537-e0f7-a0277dbe1caa"
      },
      "outputs": [
        {
          "name": "stdout",
          "output_type": "stream",
          "text": [
            "max_count : 20673 for labels with counts label\n",
            "1    20673\n",
            "2    17849\n",
            "0     7093\n",
            "Name: count, dtype: int64\n",
            "Augment data of label : 2\n",
            "Augment data of label : 0\n"
          ]
        }
      ],
      "source": [
        "# Augment the training data\n",
        "augmented_train_df = augment_data_all(train_df, 'label', 'cleaned_text')"
      ]
    },
    {
      "cell_type": "code",
      "execution_count": 27,
      "metadata": {
        "colab": {
          "base_uri": "https://localhost:8080/"
        },
        "id": "D0YdmWOAasp7",
        "outputId": "9212983b-ca41-4ce9-a807-d8b90d8d0c67"
      },
      "outputs": [
        {
          "data": {
            "text/plain": [
              "label\n",
              "1    20673\n",
              "2    20673\n",
              "0    20673\n",
              "Name: count, dtype: int64"
            ]
          },
          "execution_count": 27,
          "metadata": {},
          "output_type": "execute_result"
        }
      ],
      "source": [
        "augmented_train_df['label'].value_counts()"
      ]
    },
    {
      "cell_type": "markdown",
      "metadata": {
        "id": "zFwWWzcwa8FA"
      },
      "source": [
        "## Tokenization and Padding"
      ]
    },
    {
      "cell_type": "code",
      "execution_count": 28,
      "metadata": {
        "id": "C_AHVhTMLUXf"
      },
      "outputs": [],
      "source": [
        "# Tokenization\n",
        "max_features = 10000\n",
        "tokenizer = Tokenizer(num_words=max_features)\n",
        "tokenizer.fit_on_texts(augmented_train_df['cleaned_text'])\n",
        "\n",
        "X_train_sequences = tokenizer.texts_to_sequences(augmented_train_df['cleaned_text'])\n",
        "X_val_sequences = tokenizer.texts_to_sequences(val_df['cleaned_text'])\n",
        "X_test_sequences = tokenizer.texts_to_sequences(test_df['cleaned_text'])\n",
        "\n",
        "# Calculate sequence lengths\n",
        "train_lengths = [len(seq) for seq in X_train_sequences]\n",
        "val_lengths = [len(seq) for seq in X_val_sequences]\n",
        "test_lengths = [len(seq) for seq in X_test_sequences]\n"
      ]
    },
    {
      "cell_type": "markdown",
      "metadata": {
        "id": "9lkcHs0AbdUY"
      },
      "source": [
        "### Plot Sequence Lengths and Calculate 98th Percentile"
      ]
    },
    {
      "cell_type": "code",
      "execution_count": 29,
      "metadata": {
        "colab": {
          "base_uri": "https://localhost:8080/",
          "height": 599
        },
        "id": "8d9Qn5YpbbtL",
        "outputId": "e3b5f693-3dbb-4bf0-f37b-2e5256c19ea5"
      },
      "outputs": [
        {
          "data": {
            "image/png": "[encoded data removed]",
            "text/plain": [
              "<Figure size 1200x600 with 1 Axes>"
            ]
          },
          "metadata": {},
          "output_type": "display_data"
        },
        {
          "name": "stdout",
          "output_type": "stream",
          "text": [
            "98th percentile of sequence lengths - Train: 15.0, Validation: 16.0, Test: 13.0\n",
            "Selected max_len for padding: 16\n"
          ]
        }
      ],
      "source": [
        "import matplotlib.pyplot as plt\n",
        "import numpy as np\n",
        "\n",
        "# Plot histogram of sequence lengths\n",
        "plt.figure(figsize=(12, 6))\n",
        "plt.hist(train_lengths, bins=50, alpha=0.6, color='b', label='Train')\n",
        "plt.hist(val_lengths, bins=50, alpha=0.6, color='g', label='Validation')\n",
        "plt.hist(test_lengths, bins=50, alpha=0.6, color='r', label='Test')\n",
        "plt.xlabel('Sequence Length')\n",
        "plt.ylabel('Frequency')\n",
        "plt.legend()\n",
        "plt.title('Histogram of Sequence Lengths')\n",
        "plt.show()\n",
        "\n",
        "# Calculate 98th percentile length\n",
        "max_len_train = np.percentile(train_lengths, 98)\n",
        "max_len_val = np.percentile(val_lengths, 98)\n",
        "max_len_test = np.percentile(test_lengths, 98)\n",
        "max_len = int(max(max_len_train, max_len_val, max_len_test))\n",
        "\n",
        "print(f'98th percentile of sequence lengths - Train: {max_len_train}, Validation: {max_len_val}, Test: {max_len_test}')\n",
        "print(f'Selected max_len for padding: {max_len}')\n"
      ]
    },
    {
      "cell_type": "markdown",
      "metadata": {
        "id": "i05MOaM1cBGe"
      },
      "source": [
        "### Padding / Truncating to a `98%` Of Data"
      ]
    },
    {
      "cell_type": "code",
      "execution_count": 30,
      "metadata": {
        "id": "KiIKqJ1ybfuA"
      },
      "outputs": [],
      "source": [
        "# Padding/Truncating\n",
        "X_train = pad_sequences(X_train_sequences, maxlen=max_len)\n",
        "X_val = pad_sequences(X_val_sequences, maxlen=max_len)\n",
        "X_test = pad_sequences(X_test_sequences, maxlen=max_len)\n",
        "y_train = augmented_train_df['label']\n",
        "y_val = val_df['label']\n",
        "y_test = test_df['label']"
      ]
    },
    {
      "cell_type": "markdown",
      "metadata": {
        "id": "cEYKOLN1El9V"
      },
      "source": [
        "## Convert Data into datasets\n",
        "Creating datasets using `tf.data.Dataset` with shuffling, batching, and prefetching ensures efficient data loading, improves model training performance by overlapping data preprocessing and model execution, and handles large datasets seamlessly. This approach optimizes memory usage and computational resources, leading to faster and more reliable training.\n",
        "￼"
      ]
    },
    {
      "cell_type": "code",
      "execution_count": 31,
      "metadata": {
        "id": "O7ShwldQEl9V"
      },
      "outputs": [],
      "source": [
        "# Convert to tf.data.Dataset\n",
        "train_dataset = tf.data.Dataset.from_tensor_slices((X_train, y_train))\n",
        "val_dataset = tf.data.Dataset.from_tensor_slices((X_val, y_val))\n",
        "test_dataset = tf.data.Dataset.from_tensor_slices((X_test, y_test))\n",
        "\n",
        "# Apply Shuffling, Batching, and Prefetching\n",
        "batch_size = 32\n",
        "\n",
        "# Shuffle, batch, and prefetch the datasets\n",
        "train_dataset = train_dataset.shuffle(buffer_size=len(X_train)).batch(batch_size).prefetch(buffer_size=tf.data.AUTOTUNE)\n",
        "val_dataset = val_dataset.batch(batch_size).prefetch(buffer_size=tf.data.AUTOTUNE)\n",
        "test_dataset = test_dataset.batch(batch_size).prefetch(buffer_size=tf.data.AUTOTUNE)\n"
      ]
    },
    {
      "cell_type": "code",
      "execution_count": 32,
      "metadata": {
        "colab": {
          "base_uri": "https://localhost:8080/"
        },
        "id": "IBizj_fREl9V",
        "outputId": "1084e25b-1fc2-496e-d030-2e0371a97663"
      },
      "outputs": [
        {
          "data": {
            "text/plain": [
              "<_PrefetchDataset element_spec=(TensorSpec(shape=(None, 16), dtype=tf.int32, name=None), TensorSpec(shape=(None,), dtype=tf.int64, name=None))>"
            ]
          },
          "execution_count": 32,
          "metadata": {},
          "output_type": "execute_result"
        }
      ],
      "source": [
        "train_dataset"
      ]
    },
    {
      "cell_type": "markdown",
      "metadata": {
        "id": "63frOl3iEl9V"
      },
      "source": [
        "## First: Build the BiLSTM Model"
      ]
    },
    {
      "cell_type": "code",
      "execution_count": 20,
      "metadata": {
        "colab": {
          "base_uri": "https://localhost:8080/"
        },
        "id": "apEt7p2uEl9W",
        "outputId": "f94aa807-c7dd-471f-ec98-d2f737a6ec77"
      },
      "outputs": [
        {
          "name": "stdout",
          "output_type": "stream",
          "text": [
            "Model: \"model\"\n",
            "_________________________________________________________________\n",
            " Layer (type)                Output Shape              Param #   \n",
            "=================================================================\n",
            " input_ids (InputLayer)      [(None, 16)]              0         \n",
            "                                                                 \n",
            " embedding (Embedding)       (None, 16, 100)           1000000   \n",
            "                                                                 \n",
            " bidirectional (Bidirection  (None, 16, 128)           84480     \n",
            " al)                                                             \n",
            "                                                                 \n",
            " bidirectional_1 (Bidirecti  (None, 64)                41216     \n",
            " onal)                                                           \n",
            "                                                                 \n",
            " dropout_1 (Dropout)         (None, 64)                0         \n",
            "                                                                 \n",
            " batch_normalization (Batch  (None, 64)                256       \n",
            " Normalization)                                                  \n",
            "                                                                 \n",
            " dense_3 (Dense)             (None, 128)               8320      \n",
            "                                                                 \n",
            " dropout_2 (Dropout)         (None, 128)               0         \n",
            "                                                                 \n",
            " batch_normalization_1 (Bat  (None, 128)               512       \n",
            " chNormalization)                                                \n",
            "                                                                 \n",
            " dense_4 (Dense)             (None, 3)                 387       \n",
            "                                                                 \n",
            "=================================================================\n",
            "Total params: 1135171 (4.33 MB)\n",
            "Trainable params: 1134787 (4.33 MB)\n",
            "Non-trainable params: 384 (1.50 KB)\n",
            "_________________________________________________________________\n"
          ]
        }
      ],
      "source": [
        "import tensorflow as tf\n",
        "from tensorflow.keras.layers import Input, Embedding, Bidirectional, LSTM, Dense, Dropout, BatchNormalization\n",
        "from tensorflow.keras.models import Model\n",
        "from tensorflow.keras.optimizers import Adam\n",
        "\n",
        "def build_bilstm_model(vocab_size, embedding_dim, max_len):\n",
        "    input_ids = Input(shape=(max_len,), dtype=tf.int32, name='input_ids')\n",
        "\n",
        "    # Embedding layer\n",
        "    embedding_layer = Embedding(vocab_size, embedding_dim, input_length=max_len)(input_ids)\n",
        "\n",
        "    # BiLSTM layer\n",
        "    lstm_layer = Bidirectional(LSTM(units=64, return_sequences=True))(embedding_layer)\n",
        "    lstm_layer = Bidirectional(LSTM(units=32))(lstm_layer)\n",
        "\n",
        "    # Fully connected layers with Dropout and Batch Normalization\n",
        "    x = Dropout(0.5)(lstm_layer)\n",
        "    x = BatchNormalization()(x)\n",
        "    x = Dense(128, activation='relu', kernel_regularizer=tf.keras.regularizers.l2(0.01))(x)\n",
        "    x = Dropout(0.5)(x)\n",
        "    x = BatchNormalization()(x)\n",
        "    output = Dense(3, activation='softmax')(x)  # Assuming 3 classes\n",
        "\n",
        "    model = Model(inputs=input_ids, outputs=output)\n",
        "    model.compile(optimizer=Adam(learning_rate=3e-5),\n",
        "                  loss='sparse_categorical_crossentropy',\n",
        "                  metrics=['accuracy'])\n",
        "\n",
        "    return model\n",
        "\n",
        "# Example usage\n",
        "embedding_dim = 100  # Adjust as needed\n",
        "\n",
        "model_1 = build_bilstm_model(max_features, embedding_dim, max_len)\n",
        "model_1.summary()\n"
      ]
    },
    {
      "cell_type": "markdown",
      "metadata": {
        "id": "FxsbeuuTEl9W"
      },
      "source": [
        "### Train The Model"
      ]
    },
    {
      "cell_type": "code",
      "execution_count": null,
      "metadata": {
        "id": "bQPnMeKMEl9W",
        "outputId": "037cd0b2-8b5f-4cfd-cd2b-0e29f1dab5c2"
      },
      "outputs": [
        {
          "name": "stdout",
          "output_type": "stream",
          "text": [
            "Saving TensorBoard log files to: models_logs/model_1_bilstm/20240720-224131\n",
            "Epoch 1/10\n",
            "1939/1939 [==============================] - 36s 15ms/step - loss: 2.0311 - accuracy: 0.4714 - val_loss: 1.7553 - val_accuracy: 0.4725 - lr: 3.0000e-05\n",
            "Epoch 2/10\n",
            "1939/1939 [==============================] - 20s 10ms/step - loss: 1.7441 - accuracy: 0.5202 - val_loss: 1.5845 - val_accuracy: 0.5260 - lr: 3.0000e-05\n",
            "Epoch 3/10\n",
            "1939/1939 [==============================] - 17s 9ms/step - loss: 1.5359 - accuracy: 0.5651 - val_loss: 1.4255 - val_accuracy: 0.5740 - lr: 3.0000e-05\n",
            "Epoch 4/10\n",
            "1939/1939 [==============================] - 19s 10ms/step - loss: 1.3551 - accuracy: 0.6124 - val_loss: 1.2885 - val_accuracy: 0.6235 - lr: 3.0000e-05\n",
            "Epoch 5/10\n",
            "1939/1939 [==============================] - 19s 10ms/step - loss: 1.2076 - accuracy: 0.6524 - val_loss: 1.1860 - val_accuracy: 0.6310 - lr: 3.0000e-05\n",
            "Epoch 6/10\n",
            "1939/1939 [==============================] - 18s 9ms/step - loss: 1.0901 - accuracy: 0.6809 - val_loss: 1.1118 - val_accuracy: 0.6500 - lr: 3.0000e-05\n",
            "Epoch 7/10\n",
            "1939/1939 [==============================] - 18s 9ms/step - loss: 0.9963 - accuracy: 0.7003 - val_loss: 1.0518 - val_accuracy: 0.6625 - lr: 3.0000e-05\n",
            "Epoch 8/10\n",
            "1939/1939 [==============================] - 16s 8ms/step - loss: 0.9179 - accuracy: 0.7190 - val_loss: 1.0081 - val_accuracy: 0.6685 - lr: 3.0000e-05\n",
            "Epoch 9/10\n",
            "1939/1939 [==============================] - 16s 8ms/step - loss: 0.8542 - accuracy: 0.7306 - val_loss: 0.9713 - val_accuracy: 0.6645 - lr: 3.0000e-05\n",
            "Epoch 10/10\n",
            "1939/1939 [==============================] - 16s 8ms/step - loss: 0.7957 - accuracy: 0.7428 - val_loss: 0.9608 - val_accuracy: 0.6650 - lr: 3.0000e-05\n"
          ]
        }
      ],
      "source": [
        "# Import custom helper functions\n",
        "from helper_functions import create_tensorboard_callback, plot_loss_curves, get_callbacks\n",
        "\n",
        "lr_scheduler, early_stopping = get_callbacks()\n",
        "\n",
        "# Train the model\n",
        "history_1 = model_1.fit(train_dataset,\n",
        "                        epochs=10,\n",
        "                        validation_data=val_dataset,\n",
        "                        callbacks=[create_tensorboard_callback(dir_name=\"models_logs\", # save experiment logs here\n",
        "                                                            experiment_name=\"model_1_bilstm\"), lr_scheduler])\n"
      ]
    },
    {
      "cell_type": "markdown",
      "metadata": {
        "id": "Fc-48T5CEl9W"
      },
      "source": [
        "### Test The Model and PLotting Loss Curves"
      ]
    },
    {
      "cell_type": "code",
      "execution_count": null,
      "metadata": {
        "id": "9rUWbPWqEl9W",
        "outputId": "834bf157-a4d1-4539-eaad-16b63f82fac6"
      },
      "outputs": [
        {
          "name": "stdout",
          "output_type": "stream",
          "text": [
            " 16/384 [>.............................] - ETA: 1s - loss: 1.1939 - accuracy: 0.5605"
          ]
        },
        {
          "name": "stdout",
          "output_type": "stream",
          "text": [
            "384/384 [==============================] - 2s 4ms/step - loss: 1.1864 - accuracy: 0.5452\n",
            "Test Accuracy: 54.52%\n"
          ]
        }
      ],
      "source": [
        "# Import custom helper functions\n",
        "import time\n",
        "\n",
        "loss, accuracy = model_1.evaluate(test_dataset)\n",
        "print(f'Test Accuracy: {accuracy * 100:.2f}%')"
      ]
    },
    {
      "cell_type": "code",
      "execution_count": null,
      "metadata": {
        "id": "Plasc1GLEl9W",
        "outputId": "66309285-34e9-4ab9-e483-bba66912d869"
      },
      "outputs": [
        {
          "data": {
            "image/png": "[encoded data removed]",
            "text/plain": [
              "<Figure size 640x480 with 1 Axes>"
            ]
          },
          "metadata": {},
          "output_type": "display_data"
        },
        {
          "data": {
            "image/png": "[encoded data removed]",
            "text/plain": [
              "<Figure size 640x480 with 1 Axes>"
            ]
          },
          "metadata": {},
          "output_type": "display_data"
        }
      ],
      "source": [
        "plot_loss_curves(history_1)"
      ]
    },
    {
      "cell_type": "markdown",
      "metadata": {
        "id": "DGY8o3pCEl9X"
      },
      "source": [
        "## Second: Build the Word-Level CNN Model"
      ]
    },
    {
      "cell_type": "code",
      "execution_count": null,
      "metadata": {
        "id": "JUG5qLQAEl9X",
        "outputId": "0c919787-551b-4a5a-980c-66a4095222e3"
      },
      "outputs": [
        {
          "name": "stdout",
          "output_type": "stream",
          "text": [
            "Model: \"model_7\"\n",
            "_________________________________________________________________\n",
            " Layer (type)                Output Shape              Param #   \n",
            "=================================================================\n",
            " input_ids (InputLayer)      [(None, 16)]              0         \n",
            "                                                                 \n",
            " embedding_7 (Embedding)     (None, 16, 100)           1000000   \n",
            "                                                                 \n",
            " conv1d_5 (Conv1D)           (None, 12, 128)           64128     \n",
            "                                                                 \n",
            " global_max_pooling1d_3 (Gl  (None, 128)               0         \n",
            " obalMaxPooling1D)                                               \n",
            "                                                                 \n",
            " dropout_14 (Dropout)        (None, 128)               0         \n",
            "                                                                 \n",
            " batch_normalization_14 (Ba  (None, 128)               512       \n",
            " tchNormalization)                                               \n",
            "                                                                 \n",
            " dense_14 (Dense)            (None, 128)               16512     \n",
            "                                                                 \n",
            " dropout_15 (Dropout)        (None, 128)               0         \n",
            "                                                                 \n",
            " batch_normalization_15 (Ba  (None, 128)               512       \n",
            " tchNormalization)                                               \n",
            "                                                                 \n",
            " dense_15 (Dense)            (None, 3)                 387       \n",
            "                                                                 \n",
            "=================================================================\n",
            "Total params: 1082051 (4.13 MB)\n",
            "Trainable params: 1081539 (4.13 MB)\n",
            "Non-trainable params: 512 (2.00 KB)\n",
            "_________________________________________________________________\n"
          ]
        }
      ],
      "source": [
        "import tensorflow as tf\n",
        "from tensorflow.keras.layers import Input, Embedding, Conv1D, GlobalMaxPooling1D, Dense, Dropout, BatchNormalization\n",
        "from tensorflow.keras.models import Model\n",
        "from tensorflow.keras.optimizers import Adam\n",
        "\n",
        "def build_word_cnn_model(vocab_size, embedding_dim, max_len):\n",
        "    input_ids = Input(shape=(max_len,), dtype=tf.int32, name='input_ids')\n",
        "\n",
        "    # Embedding layer\n",
        "    embedding_layer = Embedding(vocab_size, embedding_dim, input_length=max_len)(input_ids)\n",
        "\n",
        "    # Convolutional layer\n",
        "    conv_layer = Conv1D(filters=128, kernel_size=5, activation='relu')(embedding_layer)\n",
        "    pooling_layer = GlobalMaxPooling1D()(conv_layer)\n",
        "\n",
        "    # Fully connected layers with Dropout and Batch Normalization\n",
        "    x = Dropout(0.5)(pooling_layer)\n",
        "    x = BatchNormalization()(x)\n",
        "    x = Dense(128, activation='relu', kernel_regularizer=tf.keras.regularizers.l2(0.01))(x)\n",
        "    x = Dropout(0.5)(x)\n",
        "    x = BatchNormalization()(x)\n",
        "    output = Dense(3, activation='softmax')(x)  # Assuming 3 classes\n",
        "\n",
        "    model = Model(inputs=input_ids, outputs=output)\n",
        "    model.compile(optimizer=Adam(learning_rate=3e-5),\n",
        "                  loss='sparse_categorical_crossentropy',\n",
        "                  metrics=['accuracy'])\n",
        "\n",
        "    return model\n",
        "\n",
        "embedding_dim = 100\n",
        "model_2 = build_word_cnn_model(max_features, embedding_dim, max_len)\n",
        "model_2.summary()\n"
      ]
    },
    {
      "cell_type": "markdown",
      "metadata": {
        "id": "QymxcLYYEl9X"
      },
      "source": [
        "### Train The Model"
      ]
    },
    {
      "cell_type": "code",
      "execution_count": null,
      "metadata": {
        "id": "NEWEJ0KBEl9X",
        "outputId": "6b3ee51e-3cc1-4d3b-85ff-143c13b13492"
      },
      "outputs": [
        {
          "name": "stdout",
          "output_type": "stream",
          "text": [
            "Saving TensorBoard log files to: models_logs/model_2_word_cnn/20240720-225604\n",
            "Epoch 1/20\n"
          ]
        },
        {
          "name": "stdout",
          "output_type": "stream",
          "text": [
            "1939/1939 [==============================] - 25s 12ms/step - loss: 2.4805 - accuracy: 0.4768 - val_loss: 2.1474 - val_accuracy: 0.4465 - lr: 3.0000e-05\n",
            "Epoch 2/20\n",
            "1939/1939 [==============================] - 11s 6ms/step - loss: 2.1715 - accuracy: 0.5064 - val_loss: 1.9671 - val_accuracy: 0.4580 - lr: 3.0000e-05\n",
            "Epoch 3/20\n",
            "1939/1939 [==============================] - 11s 5ms/step - loss: 1.9501 - accuracy: 0.5148 - val_loss: 1.8157 - val_accuracy: 0.4765 - lr: 3.0000e-05\n",
            "Epoch 4/20\n",
            "1939/1939 [==============================] - 11s 5ms/step - loss: 1.7640 - accuracy: 0.5296 - val_loss: 1.6806 - val_accuracy: 0.5080 - lr: 3.0000e-05\n",
            "Epoch 5/20\n",
            "1939/1939 [==============================] - 9s 5ms/step - loss: 1.6115 - accuracy: 0.5397 - val_loss: 1.5548 - val_accuracy: 0.5360 - lr: 3.0000e-05\n",
            "Epoch 6/20\n",
            "1939/1939 [==============================] - 10s 5ms/step - loss: 1.4693 - accuracy: 0.5568 - val_loss: 1.4344 - val_accuracy: 0.5505 - lr: 3.0000e-05\n",
            "Epoch 7/20\n",
            "1939/1939 [==============================] - 10s 5ms/step - loss: 1.3381 - accuracy: 0.5827 - val_loss: 1.3196 - val_accuracy: 0.5645 - lr: 3.0000e-05\n",
            "Epoch 8/20\n",
            "1939/1939 [==============================] - 10s 5ms/step - loss: 1.2221 - accuracy: 0.6097 - val_loss: 1.2167 - val_accuracy: 0.5910 - lr: 3.0000e-05\n",
            "Epoch 9/20\n",
            "1939/1939 [==============================] - 11s 5ms/step - loss: 1.1179 - accuracy: 0.6385 - val_loss: 1.1389 - val_accuracy: 0.6100 - lr: 3.0000e-05\n",
            "Epoch 10/20\n",
            "1939/1939 [==============================] - 10s 5ms/step - loss: 1.0256 - accuracy: 0.6615 - val_loss: 1.0742 - val_accuracy: 0.6150 - lr: 3.0000e-05\n",
            "Epoch 11/20\n",
            "1939/1939 [==============================] - 10s 5ms/step - loss: 0.9447 - accuracy: 0.6850 - val_loss: 1.0185 - val_accuracy: 0.6250 - lr: 3.0000e-05\n",
            "Epoch 12/20\n",
            "1939/1939 [==============================] - 21s 11ms/step - loss: 0.8790 - accuracy: 0.7042 - val_loss: 0.9777 - val_accuracy: 0.6295 - lr: 3.0000e-05\n",
            "Epoch 13/20\n",
            "1939/1939 [==============================] - 12s 6ms/step - loss: 0.8239 - accuracy: 0.7189 - val_loss: 0.9499 - val_accuracy: 0.6325 - lr: 3.0000e-05\n",
            "Epoch 14/20\n",
            "1939/1939 [==============================] - 33s 17ms/step - loss: 0.7723 - accuracy: 0.7354 - val_loss: 0.9265 - val_accuracy: 0.6310 - lr: 3.0000e-05\n",
            "Epoch 15/20\n",
            "1939/1939 [==============================] - 18s 9ms/step - loss: 0.7240 - accuracy: 0.7488 - val_loss: 0.9102 - val_accuracy: 0.6420 - lr: 3.0000e-05\n",
            "Epoch 16/20\n",
            "1939/1939 [==============================] - 41s 21ms/step - loss: 0.6857 - accuracy: 0.7620 - val_loss: 0.8980 - val_accuracy: 0.6360 - lr: 3.0000e-05\n",
            "Epoch 17/20\n",
            "1939/1939 [==============================] - 10s 5ms/step - loss: 0.6443 - accuracy: 0.7752 - val_loss: 0.8977 - val_accuracy: 0.6355 - lr: 3.0000e-05\n",
            "Epoch 18/20\n",
            "1939/1939 [==============================] - 10s 5ms/step - loss: 0.6136 - accuracy: 0.7863 - val_loss: 0.8980 - val_accuracy: 0.6395 - lr: 3.0000e-05\n",
            "Epoch 19/20\n",
            "1939/1939 [==============================] - 9s 5ms/step - loss: 0.5806 - accuracy: 0.7966 - val_loss: 0.9065 - val_accuracy: 0.6380 - lr: 3.0000e-05\n",
            "Epoch 20/20\n",
            "1939/1939 [==============================] - 9s 5ms/step - loss: 0.5530 - accuracy: 0.8080 - val_loss: 0.9173 - val_accuracy: 0.6365 - lr: 3.0000e-05\n"
          ]
        }
      ],
      "source": [
        "# Import custom helper functions\n",
        "from helper_functions import create_tensorboard_callback, plot_loss_curves, get_callbacks\n",
        "\n",
        "lr_scheduler, early_stopping = get_callbacks()\n",
        "\n",
        "# Train the model\n",
        "history_2 = model_2.fit(train_dataset,\n",
        "                        epochs=20,\n",
        "                        validation_data=val_dataset,\n",
        "                        callbacks=[create_tensorboard_callback(dir_name=\"models_logs\", # save experiment logs here\n",
        "                                                            experiment_name=\"model_2_word_cnn\"), lr_scheduler])\n"
      ]
    },
    {
      "cell_type": "markdown",
      "metadata": {
        "id": "yGwsCC0NEl9X"
      },
      "source": [
        "### Testing The Model"
      ]
    },
    {
      "cell_type": "code",
      "execution_count": null,
      "metadata": {
        "id": "rkhS2UyYEl9X",
        "outputId": "020ba8f0-416b-447a-f73c-b46bfb281600"
      },
      "outputs": [
        {
          "name": "stdout",
          "output_type": "stream",
          "text": [
            "384/384 [==============================] - 1s 2ms/step - loss: 1.1697 - accuracy: 0.5318\n",
            "Test Accuracy: 53.18%\n"
          ]
        }
      ],
      "source": [
        "# Import custom helper functions\n",
        "import time\n",
        "\n",
        "loss, accuracy = model_2.evaluate(test_dataset)\n",
        "print(f'Test Accuracy: {accuracy * 100:.2f}%')"
      ]
    },
    {
      "cell_type": "markdown",
      "metadata": {
        "id": "AH8IoPXWEl9Y"
      },
      "source": [
        "### PLotting Loss Curves"
      ]
    },
    {
      "cell_type": "code",
      "execution_count": null,
      "metadata": {
        "id": "SeC1uv1xEl9Y",
        "outputId": "d42c6e3a-b953-4978-cc7b-80c8ee1a33ad"
      },
      "outputs": [
        {
          "data": {
            "image/png": "[encoded data removed]",
            "text/plain": [
              "<Figure size 640x480 with 1 Axes>"
            ]
          },
          "metadata": {},
          "output_type": "display_data"
        },
        {
          "data": {
            "image/png": "[encoded data removed]",
            "text/plain": [
              "<Figure size 640x480 with 1 Axes>"
            ]
          },
          "metadata": {},
          "output_type": "display_data"
        }
      ],
      "source": [
        "plot_loss_curves(history_2)"
      ]
    },
    {
      "cell_type": "markdown",
      "metadata": {
        "id": "s8qwv_msEl9Y"
      },
      "source": [
        "## Third: Building the Transformer Model"
      ]
    },
    {
      "cell_type": "code",
      "execution_count": null,
      "metadata": {
        "id": "v0vBNU7_El9Y",
        "outputId": "3aa8142e-6cef-4e22-ef1c-027d5c69cd90"
      },
      "outputs": [
        {
          "name": "stdout",
          "output_type": "stream",
          "text": [
            "Model: \"model\"\n",
            "_________________________________________________________________\n",
            " Layer (type)                Output Shape              Param #   \n",
            "=================================================================\n",
            " input_1 (InputLayer)        [(None, 16)]              0         \n",
            "                                                                 \n",
            " token_and_position_embeddi  (None, 16, 100)           1001600   \n",
            " ng (TokenAndPositionEmbedd                                      \n",
            " ing)                                                            \n",
            "                                                                 \n",
            " transformer_block (Transfo  (None, 16, 100)           187528    \n",
            " rmerBlock)                                                      \n",
            "                                                                 \n",
            " global_average_pooling1d (  (None, 100)               0         \n",
            " GlobalAveragePooling1D)                                         \n",
            "                                                                 \n",
            " dropout_2 (Dropout)         (None, 100)               0         \n",
            "                                                                 \n",
            " dense_2 (Dense)             (None, 20)                2020      \n",
            "                                                                 \n",
            " dropout_3 (Dropout)         (None, 20)                0         \n",
            "                                                                 \n",
            " dense_3 (Dense)             (None, 3)                 63        \n",
            "                                                                 \n",
            "=================================================================\n",
            "Total params: 1191211 (4.54 MB)\n",
            "Trainable params: 1191211 (4.54 MB)\n",
            "Non-trainable params: 0 (0.00 Byte)\n",
            "_________________________________________________________________\n"
          ]
        }
      ],
      "source": [
        "import tensorflow as tf\n",
        "from tensorflow.keras.layers import Embedding, Dense, LayerNormalization, Dropout\n",
        "from tensorflow.keras.models import Model\n",
        "\n",
        "class TransformerBlock(tf.keras.layers.Layer):\n",
        "    def __init__(self, embed_dim, num_heads, ff_dim, rate=0.1):\n",
        "        super(TransformerBlock, self).__init__()\n",
        "        self.att = tf.keras.layers.MultiHeadAttention(num_heads=num_heads, key_dim=embed_dim)\n",
        "        self.ffn = tf.keras.Sequential(\n",
        "            [Dense(ff_dim, activation=\"relu\"), Dense(embed_dim)]\n",
        "        )\n",
        "        self.layernorm1 = LayerNormalization(epsilon=1e-6)\n",
        "        self.layernorm2 = LayerNormalization(epsilon=1e-6)\n",
        "        self.dropout1 = Dropout(rate)\n",
        "        self.dropout2 = Dropout(rate)\n",
        "\n",
        "    def call(self, inputs, training):\n",
        "        attn_output = self.att(inputs, inputs)\n",
        "        attn_output = self.dropout1(attn_output, training=training)\n",
        "        out1 = self.layernorm1(inputs + attn_output)\n",
        "        ffn_output = self.ffn(out1)\n",
        "        ffn_output = self.dropout2(ffn_output, training=training)\n",
        "        return self.layernorm2(out1 + ffn_output)\n",
        "\n",
        "class TokenAndPositionEmbedding(tf.keras.layers.Layer):\n",
        "    def __init__(self, maxlen, vocab_size, embed_dim):\n",
        "        super(TokenAndPositionEmbedding, self).__init__()\n",
        "        self.token_emb = Embedding(input_dim=vocab_size, output_dim=embed_dim)\n",
        "        self.pos_emb = Embedding(input_dim=maxlen, output_dim=embed_dim)\n",
        "\n",
        "    def call(self, x):\n",
        "        maxlen = tf.shape(x)[-1]\n",
        "        positions = tf.range(start=0, limit=maxlen, delta=1)\n",
        "        positions = self.pos_emb(positions)\n",
        "        x = self.token_emb(x)\n",
        "        return x + positions\n",
        "\n",
        "def build_transformer_model(vocab_size, embed_dim, num_heads, ff_dim, maxlen):\n",
        "    inputs = tf.keras.layers.Input(shape=(maxlen,))\n",
        "    embedding_layer = TokenAndPositionEmbedding(maxlen, vocab_size, embed_dim)\n",
        "    x = embedding_layer(inputs)\n",
        "    transformer_block = TransformerBlock(embed_dim, num_heads, ff_dim)\n",
        "    x = transformer_block(x)\n",
        "    x = tf.keras.layers.GlobalAveragePooling1D()(x)\n",
        "    x = tf.keras.layers.Dropout(0.1)(x)\n",
        "    x = tf.keras.layers.Dense(20, activation=\"relu\")(x)\n",
        "    x = tf.keras.layers.Dropout(0.1)(x)\n",
        "    outputs = tf.keras.layers.Dense(3, activation=\"softmax\")(x)\n",
        "\n",
        "    model = Model(inputs=inputs, outputs=outputs)\n",
        "    model.compile(optimizer=tf.keras.optimizers.Adam(learning_rate=1e-4),\n",
        "                  loss='sparse_categorical_crossentropy',\n",
        "                  metrics=['accuracy'])\n",
        "    return model\n",
        "\n",
        "vocab_size = max_features\n",
        "embed_dim = 100\n",
        "num_heads = 4  # Number of attention heads\n",
        "ff_dim = 128  # Hidden layer size in feed forward network inside transformer\n",
        "maxlen = max_len\n",
        "\n",
        "model_3 = build_transformer_model(vocab_size, embed_dim, num_heads, ff_dim, maxlen)\n",
        "model_3.summary()\n"
      ]
    },
    {
      "cell_type": "markdown",
      "metadata": {
        "id": "mtNvJIBPEl9Y"
      },
      "source": [
        "### Training the Transformer Model"
      ]
    },
    {
      "cell_type": "code",
      "execution_count": null,
      "metadata": {
        "id": "j9vMTa0lEl9Y",
        "outputId": "bc023c03-b194-4756-b3bf-144a2a407a68"
      },
      "outputs": [
        {
          "name": "stdout",
          "output_type": "stream",
          "text": [
            "Saving TensorBoard log files to: models_logs/model_3_custom_transformer/20240720-233450\n"
          ]
        },
        {
          "name": "stderr",
          "output_type": "stream",
          "text": [
            "2024-07-20 23:34:51.251055: I external/local_tsl/tsl/platform/default/subprocess.cc:304] Start cannot spawn child process: No such file or directory\n"
          ]
        },
        {
          "name": "stdout",
          "output_type": "stream",
          "text": [
            "Epoch 1/10\n"
          ]
        },
        {
          "name": "stderr",
          "output_type": "stream",
          "text": [
            "2024-07-20 23:34:54.308973: I external/local_xla/xla/service/service.cc:168] XLA service 0x788695be7410 initialized for platform CUDA (this does not guarantee that XLA will be used). Devices:\n",
            "2024-07-20 23:34:54.308995: I external/local_xla/xla/service/service.cc:176]   StreamExecutor device (0): NVIDIA GeForce GTX 1650, Compute Capability 7.5\n",
            "2024-07-20 23:34:54.324943: I tensorflow/compiler/mlir/tensorflow/utils/dump_mlir_util.cc:269] disabling MLIR crash reproducer, set env var `MLIR_CRASH_REPRODUCER_DIRECTORY` to enable.\n",
            "2024-07-20 23:34:54.363142: I external/local_xla/xla/stream_executor/cuda/cuda_dnn.cc:454] Loaded cuDNN version 8907\n",
            "WARNING: All log messages before absl::InitializeLog() is called are written to STDERR\n",
            "I0000 00:00:1721507694.447195    5486 device_compiler.h:186] Compiled cluster using XLA!  This line is logged at most once for the lifetime of the process.\n"
          ]
        },
        {
          "name": "stdout",
          "output_type": "stream",
          "text": [
            "1939/1939 [==============================] - 32s 14ms/step - loss: 0.8255 - accuracy: 0.6116 - val_loss: 0.8037 - val_accuracy: 0.6415 - lr: 1.0000e-04\n",
            "Epoch 2/10\n",
            "1939/1939 [==============================] - 13s 7ms/step - loss: 0.6755 - accuracy: 0.7108 - val_loss: 0.7558 - val_accuracy: 0.6620 - lr: 1.0000e-04\n",
            "Epoch 3/10\n",
            "1939/1939 [==============================] - 13s 6ms/step - loss: 0.6158 - accuracy: 0.7413 - val_loss: 0.7621 - val_accuracy: 0.6625 - lr: 1.0000e-04\n",
            "Epoch 4/10\n",
            "1939/1939 [==============================] - 12s 6ms/step - loss: 0.5827 - accuracy: 0.7575 - val_loss: 0.7915 - val_accuracy: 0.6540 - lr: 1.0000e-04\n",
            "Epoch 5/10\n",
            "1939/1939 [==============================] - 12s 6ms/step - loss: 0.5554 - accuracy: 0.7694 - val_loss: 0.7984 - val_accuracy: 0.6595 - lr: 1.0000e-04\n",
            "Epoch 6/10\n",
            "1939/1939 [==============================] - 15s 8ms/step - loss: 0.5092 - accuracy: 0.7885 - val_loss: 0.8642 - val_accuracy: 0.6475 - lr: 5.0000e-05\n",
            "Epoch 7/10\n",
            "1939/1939 [==============================] - 13s 6ms/step - loss: 0.4927 - accuracy: 0.7945 - val_loss: 0.9043 - val_accuracy: 0.6510 - lr: 5.0000e-05\n",
            "Epoch 8/10\n",
            "1939/1939 [==============================] - 12s 6ms/step - loss: 0.4758 - accuracy: 0.7991 - val_loss: 0.9368 - val_accuracy: 0.6425 - lr: 5.0000e-05\n",
            "Epoch 9/10\n",
            "1939/1939 [==============================] - 12s 6ms/step - loss: 0.4468 - accuracy: 0.8106 - val_loss: 1.0208 - val_accuracy: 0.6480 - lr: 2.5000e-05\n",
            "Epoch 10/10\n",
            "1939/1939 [==============================] - 12s 6ms/step - loss: 0.4362 - accuracy: 0.8140 - val_loss: 1.0739 - val_accuracy: 0.6450 - lr: 2.5000e-05\n"
          ]
        }
      ],
      "source": [
        "# Import custom helper functions\n",
        "from helper_functions import create_tensorboard_callback, plot_loss_curves, get_callbacks\n",
        "\n",
        "lr_scheduler, early_stopping = get_callbacks()\n",
        "\n",
        "# Train the model\n",
        "history_3 = model_3.fit(\n",
        "    train_dataset,\n",
        "    validation_data=val_dataset,\n",
        "    epochs=10,\n",
        "    callbacks=[create_tensorboard_callback(dir_name=\"models_logs\", # save experiment logs here\n",
        "                                            experiment_name=\"model_3_custom_transformer\"), lr_scheduler]\n",
        ")\n"
      ]
    },
    {
      "cell_type": "markdown",
      "metadata": {
        "id": "nt5VBifBEl9Y"
      },
      "source": [
        "### Testing The Model"
      ]
    },
    {
      "cell_type": "code",
      "execution_count": null,
      "metadata": {
        "id": "bj-SfUWyEl9Y",
        "outputId": "fe55782c-d685-4f31-aea0-dc84abb436d4"
      },
      "outputs": [
        {
          "name": "stdout",
          "output_type": "stream",
          "text": [
            "384/384 [==============================] - 1s 4ms/step - loss: 1.5486 - accuracy: 0.5532\n",
            "Test Accuracy: 55.32%\n"
          ]
        }
      ],
      "source": [
        "# Import custom helper functions\n",
        "import time\n",
        "\n",
        "loss, accuracy = model_3.evaluate(test_dataset)\n",
        "print(f'Test Accuracy: {accuracy * 100:.2f}%')"
      ]
    },
    {
      "cell_type": "markdown",
      "metadata": {
        "id": "olO9FibrEl9Z"
      },
      "source": [
        "## Fourth: Enhanced Transformer Model"
      ]
    },
    {
      "cell_type": "code",
      "execution_count": null,
      "metadata": {
        "id": "kBRjAEu0El9Z",
        "outputId": "8dcc69ac-4fe8-48b8-bb10-de8b53079d9c"
      },
      "outputs": [
        {
          "name": "stdout",
          "output_type": "stream",
          "text": [
            "Model: \"model_3\"\n",
            "_________________________________________________________________\n",
            " Layer (type)                Output Shape              Param #   \n",
            "=================================================================\n",
            " input_4 (InputLayer)        [(None, 16)]              0         \n",
            "                                                                 \n",
            " token_and_position_embeddi  (None, 16, 100)           1001600   \n",
            " ng_3 (TokenAndPositionEmbe                                      \n",
            " dding)                                                          \n",
            "                                                                 \n",
            " transformer_block_5 (Trans  (None, 16, 100)           374456    \n",
            " formerBlock)                                                    \n",
            "                                                                 \n",
            " transformer_block_6 (Trans  (None, 16, 100)           374456    \n",
            " formerBlock)                                                    \n",
            "                                                                 \n",
            " global_average_pooling1d_3  (None, 100)               0         \n",
            "  (GlobalAveragePooling1D)                                       \n",
            "                                                                 \n",
            " dropout_22 (Dropout)        (None, 100)               0         \n",
            "                                                                 \n",
            " dense_22 (Dense)            (None, 256)               25856     \n",
            "                                                                 \n",
            " dropout_23 (Dropout)        (None, 256)               0         \n",
            "                                                                 \n",
            " dense_23 (Dense)            (None, 128)               32896     \n",
            "                                                                 \n",
            " dropout_24 (Dropout)        (None, 128)               0         \n",
            "                                                                 \n",
            " dense_24 (Dense)            (None, 3)                 387       \n",
            "                                                                 \n",
            "=================================================================\n",
            "Total params: 1809651 (6.90 MB)\n",
            "Trainable params: 1809651 (6.90 MB)\n",
            "Non-trainable params: 0 (0.00 Byte)\n",
            "_________________________________________________________________\n"
          ]
        }
      ],
      "source": [
        "import tensorflow as tf\n",
        "from tensorflow.keras.layers import Embedding, Dense, LayerNormalization, Dropout, GlobalAveragePooling1D\n",
        "from tensorflow.keras.models import Model\n",
        "from tensorflow.keras.optimizers import Adam\n",
        "from tensorflow.keras.callbacks import EarlyStopping, ModelCheckpoint, ReduceLROnPlateau\n",
        "\n",
        "class TransformerBlock(tf.keras.layers.Layer):\n",
        "    def __init__(self, embed_dim, num_heads, ff_dim, rate=0.1):\n",
        "        super(TransformerBlock, self).__init__()\n",
        "        self.att = tf.keras.layers.MultiHeadAttention(num_heads=num_heads, key_dim=embed_dim)\n",
        "        self.ffn = tf.keras.Sequential(\n",
        "            [Dense(ff_dim, activation=\"relu\"), Dense(embed_dim)]\n",
        "        )\n",
        "        self.layernorm1 = LayerNormalization(epsilon=1e-6)\n",
        "        self.layernorm2 = LayerNormalization(epsilon=1e-6)\n",
        "        self.dropout1 = Dropout(rate)\n",
        "        self.dropout2 = Dropout(rate)\n",
        "\n",
        "    def call(self, inputs, training):\n",
        "        attn_output = self.att(inputs, inputs)\n",
        "        attn_output = self.dropout1(attn_output, training=training)\n",
        "        out1 = self.layernorm1(inputs + attn_output)\n",
        "        ffn_output = self.ffn(out1)\n",
        "        ffn_output = self.dropout2(ffn_output, training=training)\n",
        "        return self.layernorm2(out1 + ffn_output)\n",
        "\n",
        "class TokenAndPositionEmbedding(tf.keras.layers.Layer):\n",
        "    def __init__(self, maxlen, vocab_size, embed_dim, embedding_matrix=None):\n",
        "        super(TokenAndPositionEmbedding, self).__init__()\n",
        "        if embedding_matrix is not None:\n",
        "            self.token_emb = Embedding(input_dim=vocab_size, output_dim=embed_dim, weights=[embedding_matrix], trainable=False)\n",
        "        else:\n",
        "            self.token_emb = Embedding(input_dim=vocab_size, output_dim=embed_dim)\n",
        "        self.pos_emb = Embedding(input_dim=maxlen, output_dim=embed_dim)\n",
        "\n",
        "    def call(self, x):\n",
        "        maxlen = tf.shape(x)[-1]\n",
        "        positions = tf.range(start=0, limit=maxlen, delta=1)\n",
        "        positions = self.pos_emb(positions)\n",
        "        x = self.token_emb(x)\n",
        "        return x + positions\n",
        "\n",
        "def build_enhanced_transformer_model(vocab_size, embed_dim, num_heads, ff_dim, maxlen, embedding_matrix=None):\n",
        "    inputs = tf.keras.layers.Input(shape=(maxlen,))\n",
        "    embedding_layer = TokenAndPositionEmbedding(maxlen, vocab_size, embed_dim, embedding_matrix)\n",
        "    x = embedding_layer(inputs)\n",
        "    for _ in range(2):  # Increase the number of Transformer blocks\n",
        "        transformer_block = TransformerBlock(embed_dim, num_heads, ff_dim)\n",
        "        x = transformer_block(x)\n",
        "    x = GlobalAveragePooling1D()(x)\n",
        "    x = Dropout(0.2)(x)\n",
        "    x = Dense(256, activation=\"relu\")(x)\n",
        "    x = Dropout(0.2)(x)\n",
        "    x = Dense(128, activation=\"relu\")(x)\n",
        "    x = Dropout(0.2)(x)\n",
        "    outputs = Dense(3, activation=\"softmax\")(x)  # Assuming 3 classes\n",
        "\n",
        "    model = Model(inputs=inputs, outputs=outputs)\n",
        "    model.compile(optimizer=Adam(learning_rate=3e-5),\n",
        "                  loss='sparse_categorical_crossentropy',\n",
        "                  metrics=['accuracy'])\n",
        "    return model\n",
        "\n",
        "\n",
        "\n",
        "vocab_size = max_features\n",
        "embed_dim = 100\n",
        "num_heads = 8  # Number of attention heads\n",
        "ff_dim = 256  # Hidden layer size in feed forward network inside transformer\n",
        "maxlen = max_len\n",
        "\n",
        "model_4 = build_enhanced_transformer_model(vocab_size, embed_dim, num_heads, ff_dim, maxlen)\n",
        "model_4.summary()\n"
      ]
    },
    {
      "cell_type": "markdown",
      "metadata": {
        "id": "UKir044wEl9Z"
      },
      "source": [
        "### Train The Model"
      ]
    },
    {
      "cell_type": "code",
      "execution_count": null,
      "metadata": {
        "id": "6a-kFPqwEl9Z",
        "outputId": "1eb76d42-d0f8-4400-ef22-1661c3534c9f"
      },
      "outputs": [
        {
          "name": "stdout",
          "output_type": "stream",
          "text": [
            "Saving TensorBoard log files to: models_logs/model_4_enhanced_transformer/20240721-002312\n",
            "Epoch 1/10\n",
            "970/970 [==============================] - 37s 34ms/step - loss: 0.9058 - accuracy: 0.5400 - val_loss: 0.9921 - val_accuracy: 0.4970\n",
            "Epoch 2/10\n",
            "970/970 [==============================] - 16s 17ms/step - loss: 0.8068 - accuracy: 0.6328 - val_loss: 0.8481 - val_accuracy: 0.6060\n",
            "Epoch 3/10\n",
            "970/970 [==============================] - 16s 17ms/step - loss: 0.7159 - accuracy: 0.6865 - val_loss: 0.7984 - val_accuracy: 0.6370\n",
            "Epoch 4/10\n",
            "970/970 [==============================] - 17s 17ms/step - loss: 0.6654 - accuracy: 0.7167 - val_loss: 0.7820 - val_accuracy: 0.6450\n",
            "Epoch 5/10\n",
            "970/970 [==============================] - 16s 16ms/step - loss: 0.6276 - accuracy: 0.7378 - val_loss: 0.7657 - val_accuracy: 0.6625\n",
            "Epoch 6/10\n",
            "970/970 [==============================] - 16s 16ms/step - loss: 0.6023 - accuracy: 0.7517 - val_loss: 0.7671 - val_accuracy: 0.6570\n",
            "Epoch 7/10\n",
            "970/970 [==============================] - 16s 17ms/step - loss: 0.5805 - accuracy: 0.7617 - val_loss: 0.7886 - val_accuracy: 0.6600\n",
            "Epoch 8/10\n",
            "970/970 [==============================] - 16s 17ms/step - loss: 0.5596 - accuracy: 0.7727 - val_loss: 0.8010 - val_accuracy: 0.6450\n",
            "Epoch 9/10\n",
            "970/970 [==============================] - 15s 15ms/step - loss: 0.5446 - accuracy: 0.7783 - val_loss: 0.8366 - val_accuracy: 0.6575\n",
            "Epoch 10/10\n",
            "970/970 [==============================] - 15s 16ms/step - loss: 0.5303 - accuracy: 0.7856 - val_loss: 0.8292 - val_accuracy: 0.6545\n"
          ]
        }
      ],
      "source": [
        "# Train the model\n",
        "history_4 = model_4.fit(\n",
        "    X_train, y_train,\n",
        "    validation_data=(X_val, y_val),\n",
        "    batch_size = 64,\n",
        "    epochs=10,\n",
        "    callbacks=[create_tensorboard_callback(dir_name=\"models_logs\", # save experiment logs here\n",
        "                                            experiment_name=\"model_4_enhanced_transformer\")])\n",
        "\n",
        "# # Plot the training history\n",
        "# plot_loss_curves(history)\n",
        "\n",
        "# # Evaluate the model\n",
        "# accuracy, avg_inference_time = evaluate_model(model, test_dataset)  # Assuming test_dataset is already created\n",
        "# print(f\"Test Accuracy: {accuracy * 100:.2f}%\")\n",
        "# print(f\"Average Inference Time per Sample: {avg_inference_time:.6f} seconds\")"
      ]
    },
    {
      "cell_type": "markdown",
      "metadata": {
        "id": "2vRVV14gEl9Z"
      },
      "source": [
        "## Fifth: Try Using Pertained Model `Universal Sentence Encoder (USE)`\n",
        "\n",
        "A model trained to encode sentences into high-dimensional vectors, useful for many NLP tasks."
      ]
    },
    {
      "cell_type": "markdown",
      "metadata": {
        "id": "9IBVKIVyuM-x"
      },
      "source": [
        "### Load `universal_sentence_encoder`\n",
        "\n"
      ]
    },
    {
      "cell_type": "code",
      "execution_count": 18,
      "metadata": {
        "id": "hqhRea7GZxoy"
      },
      "outputs": [],
      "source": [
        "import tensorflow_hub as hub\n",
        "\n",
        "\n",
        "universal_sentence_encoder = hub.KerasLayer('https://tfhub.dev/google/universal-sentence-encoder-large/5',\n",
        "                                           input_shape=[], # shape of inputs coming to our mod\n",
        "                                           dtype=tf.string, # data type of inputs coming to th\n",
        "                                           trainable=False, # keep the pretrained weights (we'\n",
        "                                           name=\"USE\")"
      ]
    },
    {
      "cell_type": "code",
      "execution_count": 43,
      "metadata": {
        "id": "xRyOZsH1ZxmC"
      },
      "outputs": [],
      "source": [
        "# Create a model\n",
        "model_5 = tf.keras.models.Sequential([universal_sentence_encoder,\n",
        "                                      tf.keras.layers.Dense(256, activation='relu'),\n",
        "                                      tf.keras.layers.Dropout(0.5),\n",
        "                                      tf.keras.layers.BatchNormalization(),\n",
        "                                      tf.keras.layers.Dense(128, activation='relu'),\n",
        "                                      tf.keras.layers.Dropout(0.5),\n",
        "                                      tf.keras.layers.BatchNormalization(),\n",
        "                                      tf.keras.layers.Dense(3, activation='softmax')], name=\"universal_sentence_encoder\")\n",
        "\n",
        "# Compile the model\n",
        "model_5.compile(optimizer=Adam(),\n",
        "                  loss='sparse_categorical_crossentropy',\n",
        "                  metrics=['accuracy'])"
      ]
    },
    {
      "cell_type": "markdown",
      "metadata": {
        "id": "G2np4CKqubmP"
      },
      "source": [
        "### Preporcessing Data For Model"
      ]
    },
    {
      "cell_type": "code",
      "execution_count": 35,
      "metadata": {
        "id": "ULSbzCjGbx6-"
      },
      "outputs": [],
      "source": [
        "# Get train, test, val data\n",
        "\n",
        "train_data = train_df[\"cleaned_text\"].to_numpy()\n",
        "train_label = train_df[\"label\"].to_numpy()\n",
        "\n",
        "val_data = val_df[\"cleaned_text\"].to_numpy()\n",
        "val_label = val_df['label'].to_numpy()\n",
        "\n",
        "test_data = test_df[\"cleaned_text\"].to_numpy()\n",
        "test_label = test_df['label'].to_numpy()"
      ]
    },
    {
      "cell_type": "code",
      "execution_count": 36,
      "metadata": {
        "colab": {
          "base_uri": "https://localhost:8080/"
        },
        "id": "7fcoUuvXb5XX",
        "outputId": "32dd8079-6bad-4436-9990-71f7de6ca205"
      },
      "outputs": [
        {
          "data": {
            "text/plain": [
              "(16.0, 11)"
            ]
          },
          "execution_count": 36,
          "metadata": {},
          "output_type": "execute_result"
        }
      ],
      "source": [
        "# Getting the average number of words present in the sentences\n",
        "sentence_len = [len(sentence.split()) for sentence in train_data]\n",
        "average_sentence_len = round(sum(sentence_len) / len(sentence_len))\n",
        "\n",
        "# Getting the 95% value of the tokens\n",
        "np.percentile(sentence_len, 95), average_sentence_len"
      ]
    },
    {
      "cell_type": "markdown",
      "metadata": {
        "id": "pJs_Nj8Tv8rl"
      },
      "source": [
        "### Make `TextVectorization` on Our Data\n",
        "To Preprocess data and also be ready for the model"
      ]
    },
    {
      "cell_type": "code",
      "execution_count": 37,
      "metadata": {
        "id": "8mmU2oHHcPDD"
      },
      "outputs": [],
      "source": [
        "max_tokens = 10000\n",
        "max_length = 16 # Covering the 95% of the sentence length\n",
        "\n",
        "text_vectorizer = tf.keras.layers.TextVectorization(max_tokens=max_tokens,\n",
        "                                                    output_sequence_length=max_length,\n",
        "                                                    standardize=\"lower_and_strip_punctuation\",\n",
        "                                                    split=\"whitespace\",\n",
        "                                                    output_mode=\"int\")\n",
        "\n",
        "# Adapting the text_vectorization layer\n",
        "text_vectorizer.adapt(train_data)\n",
        "text_vectorizer.adapt(test_data)\n",
        "text_vectorizer.adapt(val_data)"
      ]
    },
    {
      "cell_type": "markdown",
      "metadata": {
        "id": "edXmXBh73yh7"
      },
      "source": [
        "### Convert Vectorized data to `tf.data.Dataset`\n",
        "\n",
        "\n"
      ]
    },
    {
      "cell_type": "code",
      "execution_count": 40,
      "metadata": {
        "id": "0i0OstScu3Dg"
      },
      "outputs": [],
      "source": [
        "# Convert to tf.data.Dataset\n",
        "train_dataset = tf.data.Dataset.from_tensor_slices((train_data, train_label))\n",
        "val_dataset = tf.data.Dataset.from_tensor_slices((val_data, val_label))\n",
        "test_dataset = tf.data.Dataset.from_tensor_slices((test_data, test_label))\n",
        "\n",
        "# Apply Shuffling, Batching, and Prefetching\n",
        "batch_size = 32\n",
        "\n",
        "# Shuffle, batch, and prefetch the datasets\n",
        "train_dataset = train_dataset.shuffle(buffer_size=len(train_data)).batch(batch_size).prefetch(buffer_size=tf.data.AUTOTUNE)\n",
        "val_dataset = val_dataset.batch(batch_size).prefetch(buffer_size=tf.data.AUTOTUNE)\n",
        "test_dataset = test_dataset.batch(batch_size).prefetch(buffer_size=tf.data.AUTOTUNE)\n"
      ]
    },
    {
      "cell_type": "markdown",
      "metadata": {
        "id": "Q2qykmSn39rP"
      },
      "source": [
        "### Train The Model"
      ]
    },
    {
      "cell_type": "code",
      "execution_count": 44,
      "metadata": {
        "colab": {
          "base_uri": "https://localhost:8080/"
        },
        "id": "jhdHYXraxGka",
        "outputId": "ef4a7fa2-5fbf-46c5-933e-7ceb688613c2"
      },
      "outputs": [
        {
          "name": "stdout",
          "output_type": "stream",
          "text": [
            "Saving TensorBoard log files to: models_logs/model_5_use/20240721-005116\n",
            "Epoch 1/15\n",
            "1426/1426 [==============================] - 90s 55ms/step - loss: 0.8992 - accuracy: 0.5808 - val_loss: 0.7483 - val_accuracy: 0.6580\n",
            "Epoch 2/15\n",
            "1426/1426 [==============================] - 75s 53ms/step - loss: 0.7749 - accuracy: 0.6411 - val_loss: 0.7466 - val_accuracy: 0.6610\n",
            "Epoch 3/15\n",
            "1426/1426 [==============================] - 73s 51ms/step - loss: 0.7593 - accuracy: 0.6523 - val_loss: 0.7420 - val_accuracy: 0.6665\n",
            "Epoch 4/15\n",
            "1426/1426 [==============================] - 73s 51ms/step - loss: 0.7455 - accuracy: 0.6596 - val_loss: 0.7359 - val_accuracy: 0.6640\n",
            "Epoch 5/15\n",
            "1426/1426 [==============================] - 72s 50ms/step - loss: 0.7356 - accuracy: 0.6659 - val_loss: 0.7344 - val_accuracy: 0.6610\n",
            "Epoch 6/15\n",
            "1426/1426 [==============================] - 71s 50ms/step - loss: 0.7252 - accuracy: 0.6706 - val_loss: 0.7324 - val_accuracy: 0.6635\n",
            "Epoch 7/15\n",
            "1426/1426 [==============================] - 76s 53ms/step - loss: 0.7176 - accuracy: 0.6761 - val_loss: 0.7330 - val_accuracy: 0.6570\n",
            "Epoch 8/15\n",
            "1426/1426 [==============================] - 73s 51ms/step - loss: 0.7040 - accuracy: 0.6814 - val_loss: 0.7361 - val_accuracy: 0.6640\n",
            "Epoch 9/15\n",
            "1426/1426 [==============================] - 74s 52ms/step - loss: 0.6910 - accuracy: 0.6899 - val_loss: 0.7321 - val_accuracy: 0.6685\n",
            "Epoch 10/15\n",
            "1426/1426 [==============================] - 73s 51ms/step - loss: 0.6828 - accuracy: 0.6924 - val_loss: 0.7338 - val_accuracy: 0.6620\n",
            "Epoch 11/15\n",
            "1426/1426 [==============================] - 74s 52ms/step - loss: 0.6708 - accuracy: 0.7008 - val_loss: 0.7335 - val_accuracy: 0.6615\n",
            "Epoch 12/15\n",
            "1426/1426 [==============================] - 74s 52ms/step - loss: 0.6577 - accuracy: 0.7061 - val_loss: 0.7393 - val_accuracy: 0.6615\n",
            "Epoch 13/15\n",
            "1426/1426 [==============================] - 79s 55ms/step - loss: 0.6471 - accuracy: 0.7145 - val_loss: 0.7395 - val_accuracy: 0.6565\n",
            "Epoch 14/15\n",
            "1426/1426 [==============================] - 75s 53ms/step - loss: 0.6373 - accuracy: 0.7202 - val_loss: 0.7429 - val_accuracy: 0.6640\n",
            "Epoch 15/15\n",
            "1426/1426 [==============================] - 74s 52ms/step - loss: 0.6306 - accuracy: 0.7237 - val_loss: 0.7516 - val_accuracy: 0.6570\n"
          ]
        }
      ],
      "source": [
        "# Import custom helper functions\n",
        "from helper_functions import create_tensorboard_callback, plot_loss_curves, get_callbacks\n",
        "\n",
        "\n",
        "# Modify the training process to include preprocessing\n",
        "history_5 = model_5.fit(train_dataset,\n",
        "                        validation_data=val_dataset,\n",
        "                        epochs=15,\n",
        "                        callbacks=[create_tensorboard_callback(dir_name=\"models_logs\",\n",
        "                                                                experiment_name=\"model_5_use\")])"
      ]
    },
    {
      "cell_type": "markdown",
      "metadata": {
        "id": "dROVt6AscWTt"
      },
      "source": [
        "## Sixth: Build Hybrid CNN-LSTM Model"
      ]
    },
    {
      "cell_type": "code",
      "execution_count": 58,
      "metadata": {
        "colab": {
          "base_uri": "https://localhost:8080/"
        },
        "id": "JmBD31ypcPYh",
        "outputId": "3d70cd73-990f-44af-ed36-3e5ddcc75f2e"
      },
      "outputs": [
        {
          "name": "stdout",
          "output_type": "stream",
          "text": [
            "Model: \"sequential_9\"\n",
            "_________________________________________________________________\n",
            " Layer (type)                Output Shape              Param #   \n",
            "=================================================================\n",
            " embedding_10 (Embedding)    (None, 16, 100)           1000000   \n",
            "                                                                 \n",
            " conv1d_2 (Conv1D)           (None, 12, 128)           64128     \n",
            "                                                                 \n",
            " max_pooling1d_2 (MaxPoolin  (None, 6, 128)            0         \n",
            " g1D)                                                            \n",
            "                                                                 \n",
            " bidirectional_2 (Bidirecti  (None, 128)               98816     \n",
            " onal)                                                           \n",
            "                                                                 \n",
            " dense_29 (Dense)            (None, 64)                8256      \n",
            "                                                                 \n",
            " dropout_27 (Dropout)        (None, 64)                0         \n",
            "                                                                 \n",
            " dense_30 (Dense)            (None, 3)                 195       \n",
            "                                                                 \n",
            "=================================================================\n",
            "Total params: 1171395 (4.47 MB)\n",
            "Trainable params: 1171395 (4.47 MB)\n",
            "Non-trainable params: 0 (0.00 Byte)\n",
            "_________________________________________________________________\n"
          ]
        }
      ],
      "source": [
        "def build_model(max_features, embedding_dim, max_len):\n",
        "    \"\"\"\n",
        "    Build and compile a hybrid CNN-LSTM model.\n",
        "\n",
        "    Args:\n",
        "        max_features (int): Size of the vocabulary.\n",
        "        embedding_dim (int): Dimension of the embedding vectors.\n",
        "        max_len (int): Maximum length of input sequences.\n",
        "\n",
        "    Returns:\n",
        "        Sequential: Compiled Keras model.\n",
        "    \"\"\"\n",
        "    model = Sequential()\n",
        "    model.add(Embedding(input_dim=max_features, output_dim=embedding_dim, input_length=max_len))\n",
        "    model.add(Conv1D(filters=128, kernel_size=5, activation='relu'))\n",
        "    model.add(MaxPooling1D(pool_size=2))\n",
        "    model.add(Bidirectional(LSTM(64)))\n",
        "    model.add(Dense(64, activation='relu'))\n",
        "    model.add(Dropout(0.5))\n",
        "    model.add(Dense(3, activation='softmax'))\n",
        "    model.compile(optimizer='adam', loss='sparse_categorical_crossentropy', metrics=['accuracy'])\n",
        "    return model\n",
        "\n",
        "embedding_dim = 100\n",
        "model_6 = build_model(max_features, embedding_dim, max_len)\n",
        "model_6.summary()\n"
      ]
    },
    {
      "cell_type": "markdown",
      "metadata": {
        "id": "GNh34CwWdV96"
      },
      "source": [
        "### Train The Model"
      ]
    },
    {
      "cell_type": "code",
      "execution_count": 59,
      "metadata": {
        "colab": {
          "base_uri": "https://localhost:8080/"
        },
        "id": "B9Dqp_jOc98R",
        "outputId": "1dfa9415-9b7a-4e8a-e859-6a4f04c8be80"
      },
      "outputs": [
        {
          "name": "stdout",
          "output_type": "stream",
          "text": [
            "Saving TensorBoard log files to: models_logs/model_6_cnn_bilstm/20240721-043254\n",
            "Epoch 1/10\n"
          ]
        },
        {
          "name": "stdout",
          "output_type": "stream",
          "text": [
            "1939/1939 [==============================] - 32s 14ms/step - loss: 0.7526 - accuracy: 0.6657 - val_loss: 0.7565 - val_accuracy: 0.6740\n",
            "Epoch 2/10\n",
            "1939/1939 [==============================] - 12s 6ms/step - loss: 0.6271 - accuracy: 0.7390 - val_loss: 0.7550 - val_accuracy: 0.6605\n",
            "Epoch 3/10\n",
            "1939/1939 [==============================] - 14s 7ms/step - loss: 0.5072 - accuracy: 0.7985 - val_loss: 0.8997 - val_accuracy: 0.6450\n",
            "Epoch 4/10\n",
            "1939/1939 [==============================] - 15s 8ms/step - loss: 0.3612 - accuracy: 0.8627 - val_loss: 1.1328 - val_accuracy: 0.6265\n",
            "Epoch 5/10\n",
            "1939/1939 [==============================] - 15s 8ms/step - loss: 0.2572 - accuracy: 0.9050 - val_loss: 1.6328 - val_accuracy: 0.6220\n",
            "Epoch 6/10\n",
            "1939/1939 [==============================] - 15s 8ms/step - loss: 0.2053 - accuracy: 0.9259 - val_loss: 2.0057 - val_accuracy: 0.6055\n",
            "Epoch 7/10\n",
            "1939/1939 [==============================] - 12s 6ms/step - loss: 0.1787 - accuracy: 0.9352 - val_loss: 2.3200 - val_accuracy: 0.6080\n",
            "Epoch 8/10\n",
            "1939/1939 [==============================] - 11s 5ms/step - loss: 0.1670 - accuracy: 0.9406 - val_loss: 2.6528 - val_accuracy: 0.6010\n",
            "Epoch 9/10\n",
            "1939/1939 [==============================] - 10s 5ms/step - loss: 0.1556 - accuracy: 0.9437 - val_loss: 2.8432 - val_accuracy: 0.6095\n",
            "Epoch 10/10\n",
            "1939/1939 [==============================] - 11s 6ms/step - loss: 0.1538 - accuracy: 0.9444 - val_loss: 2.8693 - val_accuracy: 0.6005\n"
          ]
        }
      ],
      "source": [
        "# Import custom helper functions\n",
        "from helper_functions import create_tensorboard_callback, plot_loss_curves, get_callbacks\n",
        "\n",
        "lr_scheduler, early_stopping = get_callbacks()\n",
        "\n",
        "# Train the model\n",
        "history_6 = model_6.fit(train_dataset,\n",
        "                        epochs=10,\n",
        "                        validation_data=val_dataset,\n",
        "                        callbacks=[create_tensorboard_callback(dir_name=\"models_logs\", # save experiment logs here\n",
        "                                                            experiment_name=\"model_6_cnn_bilstm\")])\n"
      ]
    },
    {
      "cell_type": "markdown",
      "metadata": {
        "id": "u_SxkyADeP6s"
      },
      "source": [
        "### PLotting Loss Curves"
      ]
    },
    {
      "cell_type": "code",
      "execution_count": 60,
      "metadata": {
        "colab": {
          "base_uri": "https://localhost:8080/",
          "height": 927
        },
        "id": "AtyyH8ACfJjp",
        "outputId": "f2d209b4-d601-4570-ff56-557718a944cf"
      },
      "outputs": [
        {
          "data": {
            "image/png": "[encoded data removed]",
            "text/plain": [
              "<Figure size 640x480 with 1 Axes>"
            ]
          },
          "metadata": {},
          "output_type": "display_data"
        },
        {
          "data": {
            "image/png": "[encoded data removed]",
            "text/plain": [
              "<Figure size 640x480 with 1 Axes>"
            ]
          },
          "metadata": {},
          "output_type": "display_data"
        }
      ],
      "source": [
        "plot_loss_curves(history_6)"
      ]
    },
    {
      "cell_type": "markdown",
      "metadata": {
        "id": "4OdATdKOkMJc"
      },
      "source": [
        "## Seventh: Build Different Architecture with Regularization and Pre-trained Embeddings"
      ]
    },
    {
      "cell_type": "markdown",
      "metadata": {
        "id": "xgXr1sbfkQfZ"
      },
      "source": [
        "### Download Pre-trained Embeddings `GloVe Embeddings`"
      ]
    },
    {
      "cell_type": "code",
      "execution_count": null,
      "metadata": {
        "colab": {
          "base_uri": "https://localhost:8080/"
        },
        "id": "eO5X-yDZkDZc",
        "outputId": "3f463f8b-531c-4a0c-8d00-068185fb01df"
      },
      "outputs": [
        {
          "name": "stdout",
          "output_type": "stream",
          "text": [
            "--2024-07-20 14:33:54--  https://downloads.cs.stanford.edu/nlp/data/glove.6B.zip\n",
            "Resolving downloads.cs.stanford.edu (downloads.cs.stanford.edu)... 171.64.64.22\n",
            "Connecting to downloads.cs.stanford.edu (downloads.cs.stanford.edu)|171.64.64.22|:443... connected.\n",
            "HTTP request sent, awaiting response... 200 OK\n",
            "Length: 862182613 (822M) [application/zip]\n",
            "Saving to: ‘glove.6B.zip’\n",
            "\n",
            "glove.6B.zip        100%[===================>] 822.24M  5.02MB/s    in 2m 39s  \n",
            "\n",
            "2024-07-20 14:36:34 (5.18 MB/s) - ‘glove.6B.zip’ saved [862182613/862182613]\n",
            "\n"
          ]
        }
      ],
      "source": [
        "!wget https://downloads.cs.stanford.edu/nlp/data/glove.6B.zip"
      ]
    },
    {
      "cell_type": "code",
      "execution_count": null,
      "metadata": {
        "colab": {
          "base_uri": "https://localhost:8080/"
        },
        "id": "UcVWiDnRg6Hg",
        "outputId": "17faaf84-b1c8-483d-c975-e1aa16038f77"
      },
      "outputs": [
        {
          "name": "stdout",
          "output_type": "stream",
          "text": [
            "Archive:  glove.6B.zip\n",
            "  inflating: glove.6B.50d.txt        \n",
            "  inflating: glove.6B.100d.txt       \n",
            "  inflating: glove.6B.200d.txt       \n",
            "  inflating: glove.6B.300d.txt       \n"
          ]
        }
      ],
      "source": [
        "!unzip glove.6B.zip"
      ]
    },
    {
      "cell_type": "markdown",
      "metadata": {
        "id": "YcLhd7W3kto_"
      },
      "source": [
        "### Load and Use GloVe"
      ]
    },
    {
      "cell_type": "code",
      "execution_count": 33,
      "metadata": {
        "id": "sblu3Jxukn2W"
      },
      "outputs": [],
      "source": [
        "import numpy as np\n",
        "from tensorflow.keras.preprocessing.text import Tokenizer\n",
        "\n",
        "def load_glove_embeddings(tokenizer, embedding_dim, glove_file_path):\n",
        "    embeddings_index = {}\n",
        "    with open(glove_file_path, 'r', encoding='utf-8') as f:\n",
        "        for line in f:\n",
        "            values = line.split()\n",
        "            word = values[0]\n",
        "            coefs = np.asarray(values[1:], dtype='float32')\n",
        "            embeddings_index[word] = coefs\n",
        "\n",
        "    embedding_matrix = np.zeros((len(tokenizer.word_index) + 1, embedding_dim))\n",
        "    for word, i in tokenizer.word_index.items():\n",
        "        embedding_vector = embeddings_index.get(word)\n",
        "        if embedding_vector is not None:\n",
        "            embedding_matrix[i] = embedding_vector\n",
        "\n",
        "    return embedding_matrix\n",
        "\n",
        "# extracted the GloVe file\n",
        "glove_file_path = 'glove.6B.100d.txt'\n",
        "embedding_dim = 100\n",
        "embedding_matrix = load_glove_embeddings(tokenizer, embedding_dim, glove_file_path)\n"
      ]
    },
    {
      "cell_type": "markdown",
      "metadata": {
        "id": "hxmqAqu8k6HD"
      },
      "source": [
        "### Build the Model with Pre-trained Embeddings"
      ]
    },
    {
      "cell_type": "code",
      "execution_count": 17,
      "metadata": {
        "colab": {
          "base_uri": "https://localhost:8080/"
        },
        "id": "jEASpGB9k10z",
        "outputId": "6bc373c5-49e3-4eef-9174-8b469716cc71"
      },
      "outputs": [
        {
          "name": "stdout",
          "output_type": "stream",
          "text": [
            "Model: \"sequential\"\n",
            "_________________________________________________________________\n",
            " Layer (type)                Output Shape              Param #   \n",
            "=================================================================\n",
            " embedding (Embedding)       (None, 16, 100)           6112500   \n",
            "                                                                 \n",
            " spatial_dropout1d (Spatial  (None, 16, 100)           0         \n",
            " Dropout1D)                                                      \n",
            "                                                                 \n",
            " conv1d (Conv1D)             (None, 12, 128)           64128     \n",
            "                                                                 \n",
            " max_pooling1d (MaxPooling1  (None, 6, 128)            0         \n",
            " D)                                                              \n",
            "                                                                 \n",
            " bidirectional (Bidirection  (None, 6, 128)            98816     \n",
            " al)                                                             \n",
            "                                                                 \n",
            " bidirectional_1 (Bidirecti  (None, 64)                41216     \n",
            " onal)                                                           \n",
            "                                                                 \n",
            " dense (Dense)               (None, 64)                4160      \n",
            "                                                                 \n",
            " dropout (Dropout)           (None, 64)                0         \n",
            "                                                                 \n",
            " dense_1 (Dense)             (None, 3)                 195       \n",
            "                                                                 \n",
            "=================================================================\n",
            "Total params: 6321015 (24.11 MB)\n",
            "Trainable params: 208515 (814.51 KB)\n",
            "Non-trainable params: 6112500 (23.32 MB)\n",
            "_________________________________________________________________\n"
          ]
        }
      ],
      "source": [
        "from tensorflow.keras.models import Sequential\n",
        "from tensorflow.keras.layers import Embedding, Conv1D, MaxPooling1D, LSTM, Dense, Dropout, Bidirectional, SpatialDropout1D\n",
        "from tensorflow.keras.callbacks import EarlyStopping\n",
        "\n",
        "def build_model_with_pretrained_embeddings(max_features, embedding_dim, max_len, embedding_matrix):\n",
        "    model = Sequential()\n",
        "    model.add(Embedding(input_dim=len(tokenizer.word_index) + 1,\n",
        "                        output_dim=embedding_dim,\n",
        "                        weights=[embedding_matrix],\n",
        "                        input_length=max_len,\n",
        "                        trainable=False))  # Set trainable to False to use pre-trained embeddings\n",
        "    model.add(SpatialDropout1D(0.2))\n",
        "    model.add(Conv1D(filters=128, kernel_size=5, activation='relu'))\n",
        "    model.add(MaxPooling1D(pool_size=2))\n",
        "    model.add(Bidirectional(LSTM(64, return_sequences=True)))\n",
        "    model.add(Bidirectional(LSTM(32)))\n",
        "    model.add(Dense(64, activation='relu'))\n",
        "    model.add(Dropout(0.5))\n",
        "    model.add(Dense(3, activation='softmax'))\n",
        "    model.compile(optimizer='adam', loss='sparse_categorical_crossentropy', metrics=['accuracy'])\n",
        "    return model\n",
        "\n",
        "embedding_dim = 100\n",
        "model_7 = build_model_with_pretrained_embeddings(max_features, embedding_dim, max_len, embedding_matrix)\n",
        "model_7.summary()\n"
      ]
    },
    {
      "cell_type": "markdown",
      "metadata": {
        "id": "Qo1btKaMlPlr"
      },
      "source": [
        "### Train The model"
      ]
    },
    {
      "cell_type": "code",
      "execution_count": null,
      "metadata": {
        "colab": {
          "base_uri": "https://localhost:8080/"
        },
        "id": "hTztAQ35lGqo",
        "outputId": "2213158d-032b-4b76-e33e-a1288d490dc6"
      },
      "outputs": [
        {
          "name": "stdout",
          "output_type": "stream",
          "text": [
            "Saving TensorBoard log files to: models_logs/model_2_pretraind_embeddings/20240720-143957\n",
            "Epoch 1/10\n",
            "1939/1939 [==============================] - 59s 24ms/step - loss: 0.7914 - accuracy: 0.6351 - val_loss: 0.8228 - val_accuracy: 0.6100 - lr: 0.0010\n",
            "Epoch 2/10\n",
            "1939/1939 [==============================] - 35s 18ms/step - loss: 0.7410 - accuracy: 0.6673 - val_loss: 0.8020 - val_accuracy: 0.6365 - lr: 0.0010\n",
            "Epoch 3/10\n",
            "1939/1939 [==============================] - 31s 16ms/step - loss: 0.7151 - accuracy: 0.6827 - val_loss: 0.8005 - val_accuracy: 0.6400 - lr: 0.0010\n",
            "Epoch 4/10\n",
            "1939/1939 [==============================] - 31s 16ms/step - loss: 0.6926 - accuracy: 0.6950 - val_loss: 0.8032 - val_accuracy: 0.6445 - lr: 0.0010\n",
            "Epoch 5/10\n",
            "1939/1939 [==============================] - 35s 18ms/step - loss: 0.6721 - accuracy: 0.7090 - val_loss: 0.8069 - val_accuracy: 0.6340 - lr: 0.0010\n",
            "Epoch 6/10\n",
            "1939/1939 [==============================] - 48s 25ms/step - loss: 0.6514 - accuracy: 0.7176 - val_loss: 0.8044 - val_accuracy: 0.6365 - lr: 0.0010\n",
            "Epoch 7/10\n",
            "1939/1939 [==============================] - 33s 17ms/step - loss: 0.6107 - accuracy: 0.7398 - val_loss: 0.8372 - val_accuracy: 0.6440 - lr: 5.0000e-04\n",
            "Epoch 8/10\n",
            "1939/1939 [==============================] - 32s 17ms/step - loss: 0.5891 - accuracy: 0.7518 - val_loss: 0.8420 - val_accuracy: 0.6350 - lr: 5.0000e-04\n",
            "Epoch 9/10\n",
            "1939/1939 [==============================] - 31s 16ms/step - loss: 0.5743 - accuracy: 0.7572 - val_loss: 0.8921 - val_accuracy: 0.6250 - lr: 5.0000e-04\n",
            "Epoch 10/10\n",
            "1939/1939 [==============================] - 37s 19ms/step - loss: 0.5440 - accuracy: 0.7722 - val_loss: 0.9100 - val_accuracy: 0.6290 - lr: 2.5000e-04\n"
          ]
        }
      ],
      "source": [
        "# Train the model\n",
        "history_7 = model_7.fit(train_dataset,\n",
        "                        epochs=10,\n",
        "                        validation_data=val_dataset,\n",
        "                        callbacks=[create_tensorboard_callback(dir_name=\"models_logs\", # save experiment logs here\n",
        "                                                            experiment_name=\"model_7_pretraind_embeddings\"), lr_scheduler])\n"
      ]
    },
    {
      "cell_type": "code",
      "execution_count": null,
      "metadata": {
        "colab": {
          "base_uri": "https://localhost:8080/",
          "height": 927
        },
        "id": "nHApl9Cros4V",
        "outputId": "33996661-afb0-4084-eb84-b46ffb8b910e"
      },
      "outputs": [
        {
          "data": {
            "image/png": "[encoded data removed]",
            "text/plain": [
              "<Figure size 640x480 with 1 Axes>"
            ]
          },
          "metadata": {},
          "output_type": "display_data"
        },
        {
          "data": {
            "image/png": "[encoded data removed]",
            "text/plain": [
              "<Figure size 640x480 with 1 Axes>"
            ]
          },
          "metadata": {},
          "output_type": "display_data"
        }
      ],
      "source": [
        "plot_loss_curves(history_7)"
      ]
    },
    {
      "cell_type": "markdown",
      "metadata": {
        "id": "hflUrEU4oiqo"
      },
      "source": [
        "## Eigth: Build CNN-LSTM Architecture\n",
        "Trying Enhance On `model_7`"
      ]
    },
    {
      "cell_type": "code",
      "execution_count": 55,
      "metadata": {},
      "outputs": [
        {
          "name": "stdout",
          "output_type": "stream",
          "text": [
            "Model: \"model_7\"\n",
            "_________________________________________________________________\n",
            " Layer (type)                Output Shape              Param #   \n",
            "=================================================================\n",
            " input_ids (InputLayer)      [(None, 16)]              0         \n",
            "                                                                 \n",
            " embedding_15 (Embedding)    (None, 16, 100)           6113400   \n",
            "                                                                 \n",
            " conv1d_21 (Conv1D)          (None, 12, 128)           64128     \n",
            "                                                                 \n",
            " max_pooling1d_15 (MaxPooli  (None, 12, 128)           0         \n",
            " ng1D)                                                           \n",
            "                                                                 \n",
            " conv1d_22 (Conv1D)          (None, 8, 128)            82048     \n",
            "                                                                 \n",
            " max_pooling1d_16 (MaxPooli  (None, 8, 128)            0         \n",
            " ng1D)                                                           \n",
            "                                                                 \n",
            " conv1d_23 (Conv1D)          (None, 4, 128)            82048     \n",
            "                                                                 \n",
            " max_pooling1d_17 (MaxPooli  (None, 4, 128)            0         \n",
            " ng1D)                                                           \n",
            "                                                                 \n",
            " flatten_1 (Flatten)         (None, 512)               0         \n",
            "                                                                 \n",
            " dense_17 (Dense)            (None, 250)               128250    \n",
            "                                                                 \n",
            " dense_18 (Dense)            (None, 250)               62750     \n",
            "                                                                 \n",
            " dense_19 (Dense)            (None, 3)                 753       \n",
            "                                                                 \n",
            "=================================================================\n",
            "Total params: 6533377 (24.92 MB)\n",
            "Trainable params: 419977 (1.60 MB)\n",
            "Non-trainable params: 6113400 (23.32 MB)\n",
            "_________________________________________________________________\n"
          ]
        }
      ],
      "source": [
        "import tensorflow as tf\n",
        "from tensorflow.keras.layers import Input, Embedding, Conv1D, MaxPooling1D, LSTM, Bidirectional, Dense, Dropout, BatchNormalization, GlobalMaxPooling1D, Flatten\n",
        "from tensorflow.keras.models import Model\n",
        "from tensorflow.keras.optimizers import Adam\n",
        "\n",
        "# def build_hybrid_cnn_bilstm_model(vocab_size, embedding_dim, max_len, embedding_matrix=None):\n",
        "#     input_ids = Input(shape=(max_len,), name='input_ids')\n",
        "\n",
        "#     # Embedding layer\n",
        "#     if embedding_matrix is not None:\n",
        "#         embedding_layer = Embedding(input_dim=vocab_size,\n",
        "#                                     output_dim=embedding_dim,\n",
        "#                                     weights=[embedding_matrix],\n",
        "#                                     input_length=max_len,\n",
        "#                                     trainable=False)(input_ids)\n",
        "#     else:\n",
        "#         embedding_layer = Embedding(input_dim=vocab_size,\n",
        "#                                     output_dim=embedding_dim,\n",
        "#                                     input_length=max_len)(input_ids)\n",
        "    \n",
        "#     x = Conv1D(128 , 5 ,activation = 'relu')(embedding_layer)\n",
        "#     x = MaxPooling1D(5)(x)\n",
        "\n",
        "#     x = Conv1D(128 , 5 ,activation = 'relu')(x)\n",
        "#     x = MaxPooling1D(5)(x)\n",
        "\n",
        "#     x = Conv1D(128 , 5 ,activation = 'relu')(x)\n",
        "#     x = MaxPooling1D(5)(x)\n",
        "\n",
        "#     x = Flatten()(x)\n",
        "#     x = Dense(250, activation='relu')(x)\n",
        "#     x = Dense(250, activation='relu')(x)\n",
        "#     output = Dense(3, activation='softmax')(x)\n",
        "\n",
        "\n",
        "\n",
        "#     # # Convolutional layer\n",
        "#     # conv_layer = Conv1D(filters=128, kernel_size=5, activation='relu')(embedding_layer)\n",
        "#     # pooling_layer = GlobalMaxPooling1D()(conv_layer)\n",
        "\n",
        "#     # # Fully connected layers with Dropout and Batch Normalization\n",
        "#     # x = Dropout(0.5)(pooling_layer)\n",
        "#     # x = BatchNormalization()(x)\n",
        "#     # x = Dense(128, activation='relu', kernel_regularizer=tf.keras.regularizers.l2(0.01))(x)\n",
        "#     # x = Dropout(0.5)(x)\n",
        "#     # x = BatchNormalization()(x)\n",
        "#     # output = Dense(3, activation='softmax')(x)  # Assuming 3 classes\n",
        "\n",
        "\n",
        "\n",
        "#     # # CNN layer\n",
        "#     # conv_layer = Conv1D(filters=128, kernel_size=5, activation='relu')(embedding_layer)\n",
        "#     # pooling_layer = MaxPooling1D(pool_size=2)(conv_layer)\n",
        "    \n",
        "#     # # BiLSTM layer\n",
        "#     # lstm_layer = Bidirectional(LSTM(units=100, return_sequences=True))(pooling_layer)\n",
        "#     # lstm_layer = Bidirectional(LSTM(units=100))(lstm_layer)\n",
        "    \n",
        "#     # # Fully connected layers with Dropout and Batch Normalization\n",
        "#     # x = Dropout(0.3)(lstm_layer)\n",
        "#     # x = BatchNormalization()(x)\n",
        "#     # x = Dense(128, activation='relu', kernel_regularizer=tf.keras.regularizers.l2(0.01))(x)\n",
        "#     # x = Dropout(0.3)(x)\n",
        "#     # x = BatchNormalization()(x)\n",
        "#     # output = Dense(3, activation='softmax')(x)  # Assuming 3 classes\n",
        "\n",
        "#     model = Model(inputs=input_ids, outputs=output)\n",
        "#     model.compile(optimizer=Adam(), \n",
        "#                   loss='sparse_categorical_crossentropy', \n",
        "#                   metrics=['accuracy'])\n",
        "    \n",
        "#     return model\n",
        "\n",
        "def build_hybrid_cnn_bilstm_model(vocab_size, embedding_dim, max_len, embedding_matrix=None):\n",
        "    input_ids = Input(shape=(max_len,), name='input_ids')\n",
        "\n",
        "    # Embedding layer\n",
        "    if embedding_matrix is not None:\n",
        "        embedding_layer = Embedding(input_dim=vocab_size,\n",
        "                                    output_dim=embedding_dim,\n",
        "                                    weights=[embedding_matrix],\n",
        "                                    input_length=max_len,\n",
        "                                    trainable=False)(input_ids)\n",
        "    else:\n",
        "        embedding_layer = Embedding(input_dim=vocab_size,\n",
        "                                    output_dim=embedding_dim,\n",
        "                                    input_length=max_len)(input_ids)\n",
        "    \n",
        "    x = Conv1D(128, 5, activation='relu')(embedding_layer)\n",
        "    x = MaxPooling1D(1)(x)  # Reduce pool size to avoid negative dimensions\n",
        "\n",
        "    x = Conv1D(128, 5, activation='relu')(x)\n",
        "    x = MaxPooling1D(1)(x)  # Reduce pool size to avoid negative dimensions\n",
        "\n",
        "    x = Conv1D(128, 5, activation='relu')(x)\n",
        "    x = MaxPooling1D(1)(x)  # Reduce pool size to avoid negative dimensions\n",
        "\n",
        "    x = Flatten()(x)\n",
        "    x = Dense(250, activation='relu')(x)\n",
        "    x = Dense(250, activation='relu')(x)\n",
        "    output = Dense(3, activation='softmax')(x)\n",
        "\n",
        "    model = Model(inputs=input_ids, outputs=output)\n",
        "    model.compile(optimizer=Adam(), \n",
        "                  loss='sparse_categorical_crossentropy', \n",
        "                  metrics=['accuracy'])\n",
        "    \n",
        "    return model\n",
        "\n",
        "\n",
        "# extracted the GloVe file\n",
        "glove_file_path = 'glove.6B.100d.txt'\n",
        "embedding_dim = 100\n",
        "embedding_matrix = load_glove_embeddings(tokenizer, embedding_dim, glove_file_path)\n",
        "vocab_size = embedding_matrix.shape[0]\n",
        "embedding_dim = 100 \n",
        "max_len = max_len  \n",
        "\n",
        "\n",
        "model_8 = build_hybrid_cnn_bilstm_model(vocab_size, embedding_dim, max_len, embedding_matrix)\n",
        "model_8.summary()\n"
      ]
    },
    {
      "cell_type": "markdown",
      "metadata": {},
      "source": [
        "### Train The Model"
      ]
    },
    {
      "cell_type": "code",
      "execution_count": 56,
      "metadata": {},
      "outputs": [
        {
          "name": "stdout",
          "output_type": "stream",
          "text": [
            "Saving TensorBoard log files to: models_logs/model_8_enhanced_pretraind_embeddings/20240721-092730\n",
            "Epoch 1/20\n"
          ]
        },
        {
          "name": "stdout",
          "output_type": "stream",
          "text": [
            "1939/1939 [==============================] - 21s 10ms/step - loss: 0.7810 - accuracy: 0.6364 - val_loss: 0.8280 - val_accuracy: 0.6170 - lr: 0.0010\n",
            "Epoch 2/20\n",
            "1939/1939 [==============================] - 19s 10ms/step - loss: 0.7078 - accuracy: 0.6855 - val_loss: 0.8209 - val_accuracy: 0.6370 - lr: 0.0010\n",
            "Epoch 3/20\n",
            "1939/1939 [==============================] - 14s 7ms/step - loss: 0.6635 - accuracy: 0.7105 - val_loss: 0.8183 - val_accuracy: 0.6325 - lr: 0.0010\n",
            "Epoch 4/20\n",
            "1939/1939 [==============================] - 13s 7ms/step - loss: 0.6108 - accuracy: 0.7390 - val_loss: 0.8584 - val_accuracy: 0.6030 - lr: 0.0010\n",
            "Epoch 5/20\n",
            "1939/1939 [==============================] - 13s 7ms/step - loss: 0.5476 - accuracy: 0.7710 - val_loss: 0.9448 - val_accuracy: 0.6175 - lr: 0.0010\n",
            "Epoch 6/20\n",
            "1939/1939 [==============================] - 14s 7ms/step - loss: 0.4821 - accuracy: 0.8012 - val_loss: 1.0725 - val_accuracy: 0.5960 - lr: 0.0010\n",
            "Epoch 7/20\n",
            "1939/1939 [==============================] - 14s 7ms/step - loss: 0.3518 - accuracy: 0.8618 - val_loss: 1.3892 - val_accuracy: 0.6015 - lr: 5.0000e-04\n",
            "Epoch 8/20\n",
            "1939/1939 [==============================] - 14s 7ms/step - loss: 0.2746 - accuracy: 0.8953 - val_loss: 1.7994 - val_accuracy: 0.5925 - lr: 5.0000e-04\n",
            "Epoch 9/20\n",
            "1939/1939 [==============================] - 13s 7ms/step - loss: 0.2375 - accuracy: 0.9118 - val_loss: 2.0319 - val_accuracy: 0.5830 - lr: 5.0000e-04\n",
            "Epoch 10/20\n",
            "1939/1939 [==============================] - 14s 7ms/step - loss: 0.1814 - accuracy: 0.9338 - val_loss: 2.8361 - val_accuracy: 0.5835 - lr: 2.5000e-04\n",
            "Epoch 11/20\n",
            "1939/1939 [==============================] - 14s 7ms/step - loss: 0.1545 - accuracy: 0.9444 - val_loss: 3.4373 - val_accuracy: 0.5815 - lr: 2.5000e-04\n",
            "Epoch 12/20\n",
            "1939/1939 [==============================] - 14s 7ms/step - loss: 0.1485 - accuracy: 0.9464 - val_loss: 3.4896 - val_accuracy: 0.5900 - lr: 2.5000e-04\n",
            "Epoch 13/20\n",
            "1939/1939 [==============================] - 14s 7ms/step - loss: 0.1367 - accuracy: 0.9505 - val_loss: 3.9089 - val_accuracy: 0.5910 - lr: 1.2500e-04\n",
            "Epoch 14/20\n",
            "1939/1939 [==============================] - 14s 7ms/step - loss: 0.1293 - accuracy: 0.9526 - val_loss: 4.4510 - val_accuracy: 0.5880 - lr: 1.2500e-04\n",
            "Epoch 15/20\n",
            "1939/1939 [==============================] - 14s 7ms/step - loss: 0.1292 - accuracy: 0.9527 - val_loss: 4.6144 - val_accuracy: 0.5990 - lr: 1.2500e-04\n",
            "Epoch 16/20\n",
            "1939/1939 [==============================] - 14s 7ms/step - loss: 0.1267 - accuracy: 0.9531 - val_loss: 4.9883 - val_accuracy: 0.5895 - lr: 6.2500e-05\n",
            "Epoch 17/20\n",
            "1939/1939 [==============================] - 13s 7ms/step - loss: 0.1252 - accuracy: 0.9532 - val_loss: 5.2245 - val_accuracy: 0.5865 - lr: 6.2500e-05\n",
            "Epoch 18/20\n",
            "1939/1939 [==============================] - 14s 7ms/step - loss: 0.1251 - accuracy: 0.9533 - val_loss: 5.4511 - val_accuracy: 0.5845 - lr: 6.2500e-05\n",
            "Epoch 19/20\n",
            "1939/1939 [==============================] - 13s 7ms/step - loss: 0.1240 - accuracy: 0.9535 - val_loss: 5.8376 - val_accuracy: 0.5940 - lr: 3.1250e-05\n",
            "Epoch 20/20\n",
            "1939/1939 [==============================] - 14s 7ms/step - loss: 0.1237 - accuracy: 0.9534 - val_loss: 6.2668 - val_accuracy: 0.5870 - lr: 3.1250e-05\n"
          ]
        }
      ],
      "source": [
        "# Import custom helper functions\n",
        "from helper_functions import create_tensorboard_callback, plot_loss_curves, get_callbacks\n",
        "\n",
        "lr_scheduler, early_stopping = get_callbacks()\n",
        "\n",
        "# Train the model\n",
        "history_8 = model_8.fit(train_dataset,\n",
        "                        epochs=20,\n",
        "                        validation_data=val_dataset,\n",
        "                        callbacks=[create_tensorboard_callback(dir_name=\"models_logs\", # save experiment logs here\n",
        "                                                            experiment_name=\"model_8_enhanced_pretraind_embeddings\"), lr_scheduler])\n"
      ]
    },
    {
      "cell_type": "code",
      "execution_count": null,
      "metadata": {},
      "outputs": [],
      "source": []
    },
    {
      "cell_type": "code",
      "execution_count": null,
      "metadata": {},
      "outputs": [],
      "source": []
    },
    {
      "cell_type": "code",
      "execution_count": null,
      "metadata": {},
      "outputs": [],
      "source": []
    },
    {
      "cell_type": "code",
      "execution_count": null,
      "metadata": {
        "colab": {
          "base_uri": "https://localhost:8080/"
        },
        "id": "IHW_fJpDlc64",
        "outputId": "0bf9fcf6-42e8-4bb8-c764-7dfc13522b9f"
      },
      "outputs": [
        {
          "name": "stdout",
          "output_type": "stream",
          "text": [
            "Model: \"sequential_2\"\n",
            "_________________________________________________________________\n",
            " Layer (type)                Output Shape              Param #   \n",
            "=================================================================\n",
            " embedding_2 (Embedding)     (None, 16, 100)           6112800   \n",
            "                                                                 \n",
            " spatial_dropout1d_1 (Spati  (None, 16, 100)           0         \n",
            " alDropout1D)                                                    \n",
            "                                                                 \n",
            " conv1d_2 (Conv1D)           (None, 12, 128)           64128     \n",
            "                                                                 \n",
            " batch_normalization (Batch  (None, 12, 128)           512       \n",
            " Normalization)                                                  \n",
            "                                                                 \n",
            " max_pooling1d_2 (MaxPoolin  (None, 6, 128)            0         \n",
            " g1D)                                                            \n",
            "                                                                 \n",
            " bidirectional_3 (Bidirecti  (None, 6, 256)            263168    \n",
            " onal)                                                           \n",
            "                                                                 \n",
            " global_max_pooling1d (Glob  (None, 256)               0         \n",
            " alMaxPooling1D)                                                 \n",
            "                                                                 \n",
            " dense_4 (Dense)             (None, 64)                16448     \n",
            "                                                                 \n",
            " dropout_2 (Dropout)         (None, 64)                0         \n",
            "                                                                 \n",
            " dense_5 (Dense)             (None, 3)                 195       \n",
            "                                                                 \n",
            "=================================================================\n",
            "Total params: 6457251 (24.63 MB)\n",
            "Trainable params: 344195 (1.31 MB)\n",
            "Non-trainable params: 6113056 (23.32 MB)\n",
            "_________________________________________________________________\n"
          ]
        }
      ],
      "source": [
        "from tensorflow.keras.models import Sequential\n",
        "from tensorflow.keras.layers import Embedding, Conv1D, MaxPooling1D, LSTM, Dense, Dropout, Bidirectional, GlobalMaxPooling1D, BatchNormalization, SpatialDropout1D\n",
        "from tensorflow.keras.callbacks import EarlyStopping, ModelCheckpoint\n",
        "\n",
        "def build_advanced_cnn_lstm_model(max_features, embedding_dim, max_len, embedding_matrix):\n",
        "    \"\"\"\n",
        "    Build and compile an advanced CNN-LSTM model.\n",
        "\n",
        "    Args:\n",
        "        max_features (int): Size of the vocabulary.\n",
        "        embedding_dim (int): Dimension of the embedding vectors.\n",
        "        max_len (int): Maximum length of input sequences.\n",
        "        embedding_matrix (numpy.ndarray): Pre-trained embedding matrix.\n",
        "\n",
        "    Returns:\n",
        "        Sequential: Compiled Keras model.\n",
        "    \"\"\"\n",
        "    model = Sequential()\n",
        "    model.add(Embedding(input_dim=len(tokenizer.word_index) + 1,\n",
        "                        output_dim=embedding_dim,\n",
        "                        weights=[embedding_matrix],\n",
        "                        input_length=max_len,\n",
        "                        trainable=False))  # Set trainable to False to use pre-trained embeddings\n",
        "    model.add(SpatialDropout1D(0.3))\n",
        "    model.add(Conv1D(filters=128, kernel_size=5, activation='relu'))\n",
        "    model.add(BatchNormalization())\n",
        "    model.add(MaxPooling1D(pool_size=2))\n",
        "    model.add(Bidirectional(LSTM(128, return_sequences=True)))\n",
        "    model.add(GlobalMaxPooling1D())\n",
        "    model.add(Dense(64, activation='relu'))\n",
        "    model.add(Dropout(0.5))\n",
        "    model.add(Dense(3, activation='softmax'))  # Assuming 3 classes for multi-class classification\n",
        "    model.compile(optimizer='adam', loss='sparse_categorical_crossentropy', metrics=['accuracy'])\n",
        "    return model\n",
        "\n",
        "embedding_dim = 100\n",
        "model_3 = build_advanced_cnn_lstm_model(max_features, embedding_dim, max_len, embedding_matrix)\n",
        "model_3.summary()\n"
      ]
    },
    {
      "cell_type": "markdown",
      "metadata": {
        "id": "rf1TEsA9ryCY"
      },
      "source": [
        "### Train The model"
      ]
    },
    {
      "cell_type": "code",
      "execution_count": null,
      "metadata": {
        "colab": {
          "base_uri": "https://localhost:8080/"
        },
        "id": "NrqnrFY_opMd",
        "outputId": "83edc1c6-4811-4507-8e72-e60814c47028"
      },
      "outputs": [
        {
          "name": "stdout",
          "output_type": "stream",
          "text": [
            "Saving TensorBoard log files to: models_logs/model_3_pretraind_embeddings/20240720-145441\n",
            "Epoch 1/10\n",
            "1939/1939 [==============================] - 44s 18ms/step - loss: 0.8102 - accuracy: 0.6202 - val_loss: 0.8205 - val_accuracy: 0.6135 - lr: 0.0010\n",
            "Epoch 2/10\n",
            "1939/1939 [==============================] - 25s 13ms/step - loss: 0.7673 - accuracy: 0.6539 - val_loss: 0.8151 - val_accuracy: 0.6210 - lr: 0.0010\n",
            "Epoch 3/10\n",
            "1939/1939 [==============================] - 22s 11ms/step - loss: 0.7491 - accuracy: 0.6629 - val_loss: 0.8085 - val_accuracy: 0.6255 - lr: 0.0010\n",
            "Epoch 4/10\n",
            "1939/1939 [==============================] - 22s 11ms/step - loss: 0.7353 - accuracy: 0.6699 - val_loss: 0.8043 - val_accuracy: 0.6295 - lr: 0.0010\n",
            "Epoch 5/10\n",
            "1939/1939 [==============================] - 21s 11ms/step - loss: 0.7248 - accuracy: 0.6779 - val_loss: 0.8041 - val_accuracy: 0.6380 - lr: 0.0010\n",
            "Epoch 6/10\n",
            "1939/1939 [==============================] - 30s 15ms/step - loss: 0.7129 - accuracy: 0.6840 - val_loss: 0.7959 - val_accuracy: 0.6355 - lr: 0.0010\n",
            "Epoch 7/10\n",
            "1939/1939 [==============================] - 30s 15ms/step - loss: 0.7066 - accuracy: 0.6874 - val_loss: 0.8006 - val_accuracy: 0.6410 - lr: 0.0010\n",
            "Epoch 8/10\n",
            "1939/1939 [==============================] - 28s 14ms/step - loss: 0.6970 - accuracy: 0.6939 - val_loss: 0.8000 - val_accuracy: 0.6335 - lr: 0.0010\n",
            "Epoch 9/10\n",
            "1939/1939 [==============================] - 22s 11ms/step - loss: 0.6877 - accuracy: 0.6969 - val_loss: 0.8146 - val_accuracy: 0.6385 - lr: 0.0010\n",
            "Epoch 10/10\n",
            "1939/1939 [==============================] - 25s 13ms/step - loss: 0.6664 - accuracy: 0.7096 - val_loss: 0.8138 - val_accuracy: 0.6420 - lr: 5.0000e-04\n"
          ]
        }
      ],
      "source": [
        "# Train the model\n",
        "history_3 = model_3.fit(X_train, y_train,\n",
        "                        epochs=10,\n",
        "                        batch_size=32,\n",
        "                        validation_data=(X_val, y_val),\n",
        "                        callbacks=[create_tensorboard_callback(dir_name=\"models_logs\", # save experiment logs here\n",
        "                                                            experiment_name=\"model_3_pretraind_embeddings\"), lr_scheduler])\n"
      ]
    },
    {
      "cell_type": "code",
      "execution_count": null,
      "metadata": {
        "colab": {
          "base_uri": "https://localhost:8080/",
          "height": 927
        },
        "id": "744LWqeTr3m1",
        "outputId": "3f05fba0-2b52-418c-cbd7-9ffc05bdc9e1"
      },
      "outputs": [
        {
          "data": {
            "image/png": "[encoded data removed]",
            "text/plain": [
              "<Figure size 640x480 with 1 Axes>"
            ]
          },
          "metadata": {},
          "output_type": "display_data"
        },
        {
          "data": {
            "image/png": "[encoded data removed]",
            "text/plain": [
              "<Figure size 640x480 with 1 Axes>"
            ]
          },
          "metadata": {},
          "output_type": "display_data"
        }
      ],
      "source": [
        "plot_loss_curves(history_3)"
      ]
    },
    {
      "cell_type": "markdown",
      "metadata": {},
      "source": [
        "## Track the Models"
      ]
    },
    {
      "cell_type": "code",
      "execution_count": 67,
      "metadata": {
        "id": "gtC6KM3YEq2L"
      },
      "outputs": [
        {
          "name": "stdout",
          "output_type": "stream",
          "text": [
            "The tensorboard extension is already loaded. To reload it, use:\n",
            "  %reload_ext tensorboard\n"
          ]
        }
      ],
      "source": [
        "%load_ext tensorboard"
      ]
    },
    {
      "cell_type": "code",
      "execution_count": 65,
      "metadata": {},
      "outputs": [],
      "source": [
        "!kill 37184"
      ]
    },
    {
      "cell_type": "code",
      "execution_count": 69,
      "metadata": {},
      "outputs": [
        {
          "data": {
            "text/plain": [
              "Reusing TensorBoard on port 6007 (pid 37633), started 0:01:54 ago. (Use '!kill 37633' to kill it.)"
            ]
          },
          "metadata": {},
          "output_type": "display_data"
        },
        {
          "data": {
            "text/html": [
              "\n",
              "      <iframe id=\"tensorboard-frame-2d50630d78033b86\" width=\"100%\" height=\"800\" frameborder=\"0\">\n",
              "      </iframe>\n",
              "      <script>\n",
              "        (function() {\n",
              "          const frame = document.getElementById(\"tensorboard-frame-2d50630d78033b86\");\n",
              "          const url = new URL(\"http://localhost\");\n",
              "          const port = 6007;\n",
              "          if (port) {\n",
              "            url.port = port;\n",
              "          }\n",
              "          frame.src = url;\n",
              "        })();\n",
              "      </script>\n",
              "    "
            ],
            "text/plain": [
              "<IPython.core.display.HTML object>"
            ]
          },
          "metadata": {},
          "output_type": "display_data"
        }
      ],
      "source": [
        "# Start TensorBoard\n",
        "%tensorboard --logdir models_logs"
      ]
    },
    {
      "cell_type": "code",
      "execution_count": null,
      "metadata": {},
      "outputs": [],
      "source": []
    }
  ],
  "metadata": {
    "accelerator": "GPU",
    "colab": {
      "gpuType": "T4",
      "provenance": [],
      "toc_visible": true
    },
    "kernelspec": {
      "display_name": "Python 3",
      "name": "python3"
    },
    "language_info": {
      "codemirror_mode": {
        "name": "ipython",
        "version": 3
      },
      "file_extension": ".py",
      "mimetype": "text/x-python",
      "name": "python",
      "nbconvert_exporter": "python",
      "pygments_lexer": "ipython3",
      "version": "3.10.12"
    }
  },
  "nbformat": 4,
  "nbformat_minor": 0
}
